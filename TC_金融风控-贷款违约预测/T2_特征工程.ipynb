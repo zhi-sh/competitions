{
 "metadata": {
  "language_info": {
   "codemirror_mode": {
    "name": "ipython",
    "version": 3
   },
   "file_extension": ".py",
   "mimetype": "text/x-python",
   "name": "python",
   "nbconvert_exporter": "python",
   "pygments_lexer": "ipython3",
   "version": "3.7.4-final"
  },
  "orig_nbformat": 2,
  "kernelspec": {
   "name": "python3",
   "display_name": "Python 3",
   "language": "python"
  }
 },
 "nbformat": 4,
 "nbformat_minor": 2,
 "cells": [
  {
   "source": [
    "%reload_ext autoreload\n",
    "%autoreload 2\n",
    "%matplotlib inline\n",
    "\n",
    "import math\n",
    "import datetime\n",
    "import logging\n",
    "import warnings\n",
    "from pathlib import Path \n",
    "from datetime import datetime\n",
    "\n",
    "import pandas as pd \n",
    "import numpy as np \n",
    "from tqdm import tqdm\n",
    "\n",
    "from utils import *\n",
    "\n",
    "pd.options.display.max_columns = None\n",
    "pd.set_option('display.float_format', lambda x: '%.4f' % x)\n",
    "warnings.filterwarnings('ignore')"
   ],
   "cell_type": "code",
   "metadata": {},
   "execution_count": 1,
   "outputs": []
  },
  {
   "cell_type": "code",
   "execution_count": 2,
   "metadata": {
    "tags": []
   },
   "outputs": [],
   "source": [
    "logging.basicConfig(level=logging.INFO, format='%(asctime)-15s %(levelname)s: %(message)s')\n",
    "# 数据集目录\n",
    "data_path = Path(r'data/tc')"
   ]
  },
  {
   "cell_type": "code",
   "execution_count": 3,
   "metadata": {},
   "outputs": [
    {
     "output_type": "stream",
     "name": "stderr",
     "text": [
      "2021-01-19 09:54:19,680 INFO: train shape: (800000, 47)\n",
      "2021-01-19 09:54:19,681 INFO: testA shape: (200000, 46)\n"
     ]
    },
    {
     "output_type": "execute_result",
     "data": {
      "text/plain": [
       "   id   loanAmnt  term  interestRate  installment grade subGrade  \\\n",
       "0   0 35000.0000     5       19.5200     917.9700     E       E2   \n",
       "1   1 18000.0000     5       18.4900     461.9000     D       D2   \n",
       "2   2 12000.0000     5       16.9900     298.1700     D       D3   \n",
       "3   3 11000.0000     3        7.2600     340.9600     A       A4   \n",
       "4   4  3000.0000     3       12.9900     101.0700     C       C2   \n",
       "\n",
       "   employmentTitle employmentLength  homeOwnership  annualIncome  \\\n",
       "0         320.0000          2 years              2   110000.0000   \n",
       "1      219843.0000          5 years              0    46000.0000   \n",
       "2       31698.0000          8 years              0    74000.0000   \n",
       "3       46854.0000        10+ years              1   118000.0000   \n",
       "4          54.0000              NaN              1    29000.0000   \n",
       "\n",
       "   verificationStatus   issueDate  isDefault  purpose  postCode  regionCode  \\\n",
       "0                   2  2014-07-01          1        1  137.0000          32   \n",
       "1                   2  2012-08-01          0        0  156.0000          18   \n",
       "2                   2  2015-10-01          0        0  337.0000          14   \n",
       "3                   1  2015-08-01          0        4  148.0000          11   \n",
       "4                   2  2016-03-01          0       10  301.0000          21   \n",
       "\n",
       "      dti  delinquency_2years  ficoRangeLow  ficoRangeHigh  openAcc  pubRec  \\\n",
       "0 17.0500              0.0000      730.0000       734.0000   7.0000  0.0000   \n",
       "1 27.8300              0.0000      700.0000       704.0000  13.0000  0.0000   \n",
       "2 22.7700              0.0000      675.0000       679.0000  11.0000  0.0000   \n",
       "3 17.2100              0.0000      685.0000       689.0000   9.0000  0.0000   \n",
       "4 32.1600              0.0000      690.0000       694.0000  12.0000  0.0000   \n",
       "\n",
       "   pubRecBankruptcies   revolBal  revolUtil  totalAcc  initialListStatus  \\\n",
       "0              0.0000 24178.0000    48.9000   27.0000                  0   \n",
       "1              0.0000 15096.0000    38.9000   18.0000                  1   \n",
       "2              0.0000  4606.0000    51.8000   27.0000                  0   \n",
       "3              0.0000  9948.0000    52.6000   28.0000                  1   \n",
       "4              0.0000  2942.0000    32.0000   27.0000                  0   \n",
       "\n",
       "   applicationType earliesCreditLine     title  policyCode     n0     n1  \\\n",
       "0                0          Aug-2001    1.0000      1.0000 0.0000 2.0000   \n",
       "1                0          May-2002 1723.0000      1.0000    NaN    NaN   \n",
       "2                0          May-2006    0.0000      1.0000 0.0000 0.0000   \n",
       "3                0          May-1999    4.0000      1.0000 6.0000 4.0000   \n",
       "4                0          Aug-1977   11.0000      1.0000 1.0000 2.0000   \n",
       "\n",
       "      n2     n3      n4      n5      n6      n7      n8     n9     n10    n11  \\\n",
       "0 2.0000 2.0000  4.0000  9.0000  8.0000  4.0000 12.0000 2.0000  7.0000 0.0000   \n",
       "1    NaN    NaN 10.0000     NaN     NaN     NaN     NaN    NaN 13.0000    NaN   \n",
       "2 3.0000 3.0000  0.0000  0.0000 21.0000  4.0000  5.0000 3.0000 11.0000 0.0000   \n",
       "3 6.0000 6.0000  4.0000 16.0000  4.0000  7.0000 21.0000 6.0000  9.0000 0.0000   \n",
       "4 7.0000 7.0000  2.0000  4.0000  9.0000 10.0000 15.0000 7.0000 12.0000 0.0000   \n",
       "\n",
       "     n12    n13    n14  \n",
       "0 0.0000 0.0000 2.0000  \n",
       "1    NaN    NaN    NaN  \n",
       "2 0.0000 0.0000 4.0000  \n",
       "3 0.0000 0.0000 1.0000  \n",
       "4 0.0000 0.0000 4.0000  "
      ],
      "text/html": "<div>\n<style scoped>\n    .dataframe tbody tr th:only-of-type {\n        vertical-align: middle;\n    }\n\n    .dataframe tbody tr th {\n        vertical-align: top;\n    }\n\n    .dataframe thead th {\n        text-align: right;\n    }\n</style>\n<table border=\"1\" class=\"dataframe\">\n  <thead>\n    <tr style=\"text-align: right;\">\n      <th></th>\n      <th>id</th>\n      <th>loanAmnt</th>\n      <th>term</th>\n      <th>interestRate</th>\n      <th>installment</th>\n      <th>grade</th>\n      <th>subGrade</th>\n      <th>employmentTitle</th>\n      <th>employmentLength</th>\n      <th>homeOwnership</th>\n      <th>annualIncome</th>\n      <th>verificationStatus</th>\n      <th>issueDate</th>\n      <th>isDefault</th>\n      <th>purpose</th>\n      <th>postCode</th>\n      <th>regionCode</th>\n      <th>dti</th>\n      <th>delinquency_2years</th>\n      <th>ficoRangeLow</th>\n      <th>ficoRangeHigh</th>\n      <th>openAcc</th>\n      <th>pubRec</th>\n      <th>pubRecBankruptcies</th>\n      <th>revolBal</th>\n      <th>revolUtil</th>\n      <th>totalAcc</th>\n      <th>initialListStatus</th>\n      <th>applicationType</th>\n      <th>earliesCreditLine</th>\n      <th>title</th>\n      <th>policyCode</th>\n      <th>n0</th>\n      <th>n1</th>\n      <th>n2</th>\n      <th>n3</th>\n      <th>n4</th>\n      <th>n5</th>\n      <th>n6</th>\n      <th>n7</th>\n      <th>n8</th>\n      <th>n9</th>\n      <th>n10</th>\n      <th>n11</th>\n      <th>n12</th>\n      <th>n13</th>\n      <th>n14</th>\n    </tr>\n  </thead>\n  <tbody>\n    <tr>\n      <th>0</th>\n      <td>0</td>\n      <td>35000.0000</td>\n      <td>5</td>\n      <td>19.5200</td>\n      <td>917.9700</td>\n      <td>E</td>\n      <td>E2</td>\n      <td>320.0000</td>\n      <td>2 years</td>\n      <td>2</td>\n      <td>110000.0000</td>\n      <td>2</td>\n      <td>2014-07-01</td>\n      <td>1</td>\n      <td>1</td>\n      <td>137.0000</td>\n      <td>32</td>\n      <td>17.0500</td>\n      <td>0.0000</td>\n      <td>730.0000</td>\n      <td>734.0000</td>\n      <td>7.0000</td>\n      <td>0.0000</td>\n      <td>0.0000</td>\n      <td>24178.0000</td>\n      <td>48.9000</td>\n      <td>27.0000</td>\n      <td>0</td>\n      <td>0</td>\n      <td>Aug-2001</td>\n      <td>1.0000</td>\n      <td>1.0000</td>\n      <td>0.0000</td>\n      <td>2.0000</td>\n      <td>2.0000</td>\n      <td>2.0000</td>\n      <td>4.0000</td>\n      <td>9.0000</td>\n      <td>8.0000</td>\n      <td>4.0000</td>\n      <td>12.0000</td>\n      <td>2.0000</td>\n      <td>7.0000</td>\n      <td>0.0000</td>\n      <td>0.0000</td>\n      <td>0.0000</td>\n      <td>2.0000</td>\n    </tr>\n    <tr>\n      <th>1</th>\n      <td>1</td>\n      <td>18000.0000</td>\n      <td>5</td>\n      <td>18.4900</td>\n      <td>461.9000</td>\n      <td>D</td>\n      <td>D2</td>\n      <td>219843.0000</td>\n      <td>5 years</td>\n      <td>0</td>\n      <td>46000.0000</td>\n      <td>2</td>\n      <td>2012-08-01</td>\n      <td>0</td>\n      <td>0</td>\n      <td>156.0000</td>\n      <td>18</td>\n      <td>27.8300</td>\n      <td>0.0000</td>\n      <td>700.0000</td>\n      <td>704.0000</td>\n      <td>13.0000</td>\n      <td>0.0000</td>\n      <td>0.0000</td>\n      <td>15096.0000</td>\n      <td>38.9000</td>\n      <td>18.0000</td>\n      <td>1</td>\n      <td>0</td>\n      <td>May-2002</td>\n      <td>1723.0000</td>\n      <td>1.0000</td>\n      <td>NaN</td>\n      <td>NaN</td>\n      <td>NaN</td>\n      <td>NaN</td>\n      <td>10.0000</td>\n      <td>NaN</td>\n      <td>NaN</td>\n      <td>NaN</td>\n      <td>NaN</td>\n      <td>NaN</td>\n      <td>13.0000</td>\n      <td>NaN</td>\n      <td>NaN</td>\n      <td>NaN</td>\n      <td>NaN</td>\n    </tr>\n    <tr>\n      <th>2</th>\n      <td>2</td>\n      <td>12000.0000</td>\n      <td>5</td>\n      <td>16.9900</td>\n      <td>298.1700</td>\n      <td>D</td>\n      <td>D3</td>\n      <td>31698.0000</td>\n      <td>8 years</td>\n      <td>0</td>\n      <td>74000.0000</td>\n      <td>2</td>\n      <td>2015-10-01</td>\n      <td>0</td>\n      <td>0</td>\n      <td>337.0000</td>\n      <td>14</td>\n      <td>22.7700</td>\n      <td>0.0000</td>\n      <td>675.0000</td>\n      <td>679.0000</td>\n      <td>11.0000</td>\n      <td>0.0000</td>\n      <td>0.0000</td>\n      <td>4606.0000</td>\n      <td>51.8000</td>\n      <td>27.0000</td>\n      <td>0</td>\n      <td>0</td>\n      <td>May-2006</td>\n      <td>0.0000</td>\n      <td>1.0000</td>\n      <td>0.0000</td>\n      <td>0.0000</td>\n      <td>3.0000</td>\n      <td>3.0000</td>\n      <td>0.0000</td>\n      <td>0.0000</td>\n      <td>21.0000</td>\n      <td>4.0000</td>\n      <td>5.0000</td>\n      <td>3.0000</td>\n      <td>11.0000</td>\n      <td>0.0000</td>\n      <td>0.0000</td>\n      <td>0.0000</td>\n      <td>4.0000</td>\n    </tr>\n    <tr>\n      <th>3</th>\n      <td>3</td>\n      <td>11000.0000</td>\n      <td>3</td>\n      <td>7.2600</td>\n      <td>340.9600</td>\n      <td>A</td>\n      <td>A4</td>\n      <td>46854.0000</td>\n      <td>10+ years</td>\n      <td>1</td>\n      <td>118000.0000</td>\n      <td>1</td>\n      <td>2015-08-01</td>\n      <td>0</td>\n      <td>4</td>\n      <td>148.0000</td>\n      <td>11</td>\n      <td>17.2100</td>\n      <td>0.0000</td>\n      <td>685.0000</td>\n      <td>689.0000</td>\n      <td>9.0000</td>\n      <td>0.0000</td>\n      <td>0.0000</td>\n      <td>9948.0000</td>\n      <td>52.6000</td>\n      <td>28.0000</td>\n      <td>1</td>\n      <td>0</td>\n      <td>May-1999</td>\n      <td>4.0000</td>\n      <td>1.0000</td>\n      <td>6.0000</td>\n      <td>4.0000</td>\n      <td>6.0000</td>\n      <td>6.0000</td>\n      <td>4.0000</td>\n      <td>16.0000</td>\n      <td>4.0000</td>\n      <td>7.0000</td>\n      <td>21.0000</td>\n      <td>6.0000</td>\n      <td>9.0000</td>\n      <td>0.0000</td>\n      <td>0.0000</td>\n      <td>0.0000</td>\n      <td>1.0000</td>\n    </tr>\n    <tr>\n      <th>4</th>\n      <td>4</td>\n      <td>3000.0000</td>\n      <td>3</td>\n      <td>12.9900</td>\n      <td>101.0700</td>\n      <td>C</td>\n      <td>C2</td>\n      <td>54.0000</td>\n      <td>NaN</td>\n      <td>1</td>\n      <td>29000.0000</td>\n      <td>2</td>\n      <td>2016-03-01</td>\n      <td>0</td>\n      <td>10</td>\n      <td>301.0000</td>\n      <td>21</td>\n      <td>32.1600</td>\n      <td>0.0000</td>\n      <td>690.0000</td>\n      <td>694.0000</td>\n      <td>12.0000</td>\n      <td>0.0000</td>\n      <td>0.0000</td>\n      <td>2942.0000</td>\n      <td>32.0000</td>\n      <td>27.0000</td>\n      <td>0</td>\n      <td>0</td>\n      <td>Aug-1977</td>\n      <td>11.0000</td>\n      <td>1.0000</td>\n      <td>1.0000</td>\n      <td>2.0000</td>\n      <td>7.0000</td>\n      <td>7.0000</td>\n      <td>2.0000</td>\n      <td>4.0000</td>\n      <td>9.0000</td>\n      <td>10.0000</td>\n      <td>15.0000</td>\n      <td>7.0000</td>\n      <td>12.0000</td>\n      <td>0.0000</td>\n      <td>0.0000</td>\n      <td>0.0000</td>\n      <td>4.0000</td>\n    </tr>\n  </tbody>\n</table>\n</div>"
     },
     "metadata": {},
     "execution_count": 3
    }
   ],
   "source": [
    "train = pd.read_csv(f\"{data_path}/train.csv\")\n",
    "testA = pd.read_csv(f\"{data_path}/testA.csv\")\n",
    "logging.info(f\"train shape: {train.shape}\")\n",
    "logging.info(f\"testA shape: {testA.shape}\")\n",
    "train.head()"
   ]
  },
  {
   "source": [
    "### 特征预处理"
   ],
   "cell_type": "markdown",
   "metadata": {}
  },
  {
   "cell_type": "code",
   "execution_count": 4,
   "metadata": {},
   "outputs": [],
   "source": [
    "# grade 特征处理\n",
    "\n",
    "grade_dic = {\"A\":0, \"B\":1, \"C\":2, \"D\":3, \"E\":4, \"F\":5, \"G\":6}\n",
    "for data in [train, testA]:\n",
    "    data.grade = data.grade.map(grade_dic, na_action='ignore')  # 将grade改为数字，不出来NA值\n",
    "    data.grade.astype('category')"
   ]
  },
  {
   "cell_type": "code",
   "execution_count": 5,
   "metadata": {},
   "outputs": [],
   "source": [
    "# subGrade 特征处理\n",
    "\n",
    "subgrade_dic = {\"A1\":0,\"A2\":1,\"A3\":2,\"A4\":3,\"A5\":4,\"B1\":5,\"B2\":6,\"B3\":7,\"B4\":8,\"B5\":9,\"C1\":10,\"C2\":11,\"C3\":12,\"C4\":13,\"C5\":14,\"D1\":15,\"D2\":16,\"D3\":17,\"D4\":18,\"D5\":19,\"E1\":20,\"E2\":21,\"E3\":22,\"E4\":23,\"E5\":24,\"F1\":25,\"F2\":26,\"F3\":27,\"F4\":28,\"F5\":29,\"G1\":30,\"G2\":31,\"G3\":32,\"G4\":33,\"G5\":34}\n",
    "\n",
    "for data in [train, testA]:\n",
    "    data.subGrade = data.subGrade.map(subgrade_dic, na_action='ignore')\n",
    "    data.subGrade.astype('category')"
   ]
  },
  {
   "cell_type": "code",
   "execution_count": 6,
   "metadata": {},
   "outputs": [],
   "source": [
    "# employmentLength 特征处理\n",
    "\n",
    "emp_dic = {\"2 years\":2, \"5 years\":5, \"8 years\":8, \"10+ years\":10, \"7 years\":7,\"9 years\":9, \"1 year\":1, \"3 years\":3, \"< 1 year\":0, \"4 years\":4, \"6 years\":6}\n",
    "\n",
    "for data in [train, testA]:\n",
    "    data.employmentLength = data.employmentLength.map(emp_dic, na_action='ignore')\n",
    "    data.employmentLength.astype('category')"
   ]
  },
  {
   "cell_type": "code",
   "execution_count": 7,
   "metadata": {},
   "outputs": [
    {
     "output_type": "stream",
     "name": "stderr",
     "text": [
      "2021-01-19 09:54:36,277 INFO: Note: NumExpr detected 12 cores but \"NUMEXPR_MAX_THREADS\" not set, so enforcing safe limit of 8.\n",
      "2021-01-19 09:54:36,277 INFO: NumExpr defaulting to 8 threads.\n"
     ]
    }
   ],
   "source": [
    "# 时间格式 issueDate + earliesCreditLine\n",
    "# issueDate 贷款发放的月份\n",
    "# earliesCreditLine 借款人最早报告的信用额度开立的月份\n",
    "\n",
    "for data in [train, testA]:\n",
    "    t1 = pd.to_datetime(data.issueDate)  # 2014-07-01\n",
    "    t2 = pd.to_datetime(data.earliesCreditLine)  # 2001-08-01\n",
    "    years_between_issueDate_and_earliesCreditLine = round(abs((t1-t2).apply(lambda x: x.days))/365, 0)\n",
    "    issueDate_to_now_days = t1.apply(lambda x: (datetime.now() - x).days)\n",
    "    earliesCreditLine_to_now_days = t2.apply(lambda x: (datetime.now() - x).days)\n",
    "    data['years_between_issueDate_and_earliesCreditLine'] = years_between_issueDate_and_earliesCreditLine\n",
    "    data['issueDate_to_now_days'] = issueDate_to_now_days\n",
    "    data['earliesCreditLine_to_now_days'] = earliesCreditLine_to_now_days"
   ]
  },
  {
   "cell_type": "code",
   "execution_count": 8,
   "metadata": {},
   "outputs": [],
   "source": [
    "# 特征构造 ficoRange = ficoRangeHigh - ficoRangeLow\n",
    "# ficoRangeLow 借款人在贷款发放时的fico所属的下限范围\n",
    "# ficoRangeHigh 借款人在贷款发放时的fico所属的上限范围\n",
    "\n",
    "for data in [train, testA]:\n",
    "    ficoRange = data.ficoRangeHigh - data.ficoRangeLow\n",
    "    data['ficoRange'] = ficoRange\n",
    "    data.ficoRange.astype('category')"
   ]
  },
  {
   "cell_type": "code",
   "execution_count": 9,
   "metadata": {},
   "outputs": [],
   "source": [
    "# 删除唯一值特征 policyCode\n",
    "\n",
    "for data in [train, testA]:\n",
    "    data = data.drop('policyCode', axis=1)"
   ]
  },
  {
   "cell_type": "code",
   "execution_count": 10,
   "metadata": {},
   "outputs": [],
   "source": [
    "# 债务收入比 dti 不可能为负\n",
    "for data in [train, testA]:\n",
    "    data.dti[data.dti<0] = 0"
   ]
  },
  {
   "cell_type": "code",
   "execution_count": 11,
   "metadata": {},
   "outputs": [],
   "source": [
    "# 业务变量构造\n",
    "\n",
    "for data in [train, testA]:\n",
    "    # 余额 = 信贷周转余额合计 + 借款人信用档案中当前的信用额度总数  = revolBal+totalAcc\n",
    "    revolBal_p_totalAcc = data.revolBal + data.totalAcc\n",
    "\n",
    "    # 信用已用额度 = 借款人信用档案中当前的信用额度总数 - 借款人信用档案中未结信用额度的数量 = totalAcc-openAcc\n",
    "    totalAcc_m_openAcc = data.totalAcc - data.openAcc\n",
    "\n",
    "    # 年还款 = 贷款金额 / 贷款期限（year） = loanAmnt/term \n",
    "    loanAmnt_term = data.loanAmnt / data.term\n",
    "\n",
    "    # 年收入/年还款\n",
    "    annualIncome_loanAmnt_term = data.annualIncome / loanAmnt_term\n",
    "\n",
    "    # 债务 = 债务收入比 * 年收入 = dti*annualIncome\n",
    "    debt = data.dti * data.annualIncome\n",
    "\n",
    "    # 利息 = 贷款利率 * 贷款期限（year） =  interestRate*term\n",
    "    pro = data.interestRate * data.term\n",
    "\n",
    "    # 分期付款金额 / 年收入\n",
    "    installment_annualIncome = data.installment / data.annualIncome\n",
    "\n",
    "    # 人均贷款金额 = 贷款总额 / 表明贷款是个人申请还是与两个共同借款人的联合申请\n",
    "    loanAmnt_applicationType = data.loanAmnt/(1+data.applicationType)\n",
    "\n",
    "    # --------- 赋值\n",
    "    data[\"revolBal_p_totalAcc\"] = revolBal_p_totalAcc\n",
    "    data[\"totalAcc_m_openAcc\"] = totalAcc_m_openAcc\n",
    "    data[\"loanAmnt_term\"] = loanAmnt_term\n",
    "    data[\"annualIncome_loanAmnt_term\"] = annualIncome_loanAmnt_term\n",
    "    data[\"debt\"] = debt\n",
    "    data[\"pro\"] = pro\n",
    "    data[\"installment_annualIncome\"] = installment_annualIncome\n",
    "    data[\"loanAmnt_applicationType\"] = loanAmnt_applicationType\n",
    "\n",
    "    eny_num = data.earliesCreditLine_to_now_days/(data.years_between_issueDate_and_earliesCreditLine)\n",
    "    int_sub = data.interestRate/data.subGrade\n",
    "    pro_dti = data.pro/data.dti\n",
    "    top1 = data.issueDate_to_now_days*data.ficoRangeHigh\n",
    "\n",
    "    data[\"eny_num\"] = eny_num\n",
    "    data[\"int_sub\"] = int_sub\n",
    "    data[\"pro_dti\"] = pro_dti\n",
    "    data[\"top1\"] = top1\n",
    "\n",
    "    # pubRec\t贬损公共记录的数量\n",
    "    # pubRecBankruptcies\t公开记录清除的数量\n",
    "\n",
    "    rec = data.pubRec - data.pubRecBankruptcies\n",
    "    rec_rate = data.pubRecBankruptcies/(1+data.pubRec)\n",
    "\n",
    "    data['rec'] = rec \n",
    "    data['rec_rate'] = rec_rate"
   ]
  },
  {
   "cell_type": "code",
   "execution_count": 12,
   "metadata": {},
   "outputs": [],
   "source": [
    "# 处理 N group\n",
    "n_feat = ['n0', 'n1', 'n2', 'n4', 'n5', 'n6', 'n7', 'n8', 'n9', 'n10', 'n11', 'n12', 'n13', 'n14', ]\n",
    "nameList = ['min', 'max', 'sum', 'mean', 'median', 'skew', 'std', 'mode', 'range', 'Q25','Q75']\n",
    "statList = ['min', 'max', 'sum', 'mean', 'median', 'skew', 'std', myMode, myRange, myQ25, myQ75]\n",
    "\n",
    "for data in [train, testA]:\n",
    "    for i in range(len(nameList)):\n",
    "\t    data['n_feat_{}'.format(nameList[i])] = data[n_feat].agg(statList[i], axis=1)"
   ]
  },
  {
   "cell_type": "code",
   "execution_count": 13,
   "metadata": {},
   "outputs": [
    {
     "output_type": "stream",
     "name": "stderr",
     "text": [
      "2021-01-19 10:26:32,959 INFO: combine data shape: (1000000, 77)\n"
     ]
    }
   ],
   "source": [
    "train['sample'] = 'train'\n",
    "testA['sample'] = 'test'\n",
    "\n",
    "# 关联train + test 一起做特征处理\n",
    "data = pd.concat([train, testA], axis=0, ignore_index=True)\n",
    "data.to_csv(f\"data/data_for_model_v1.csv\", index=False)\n",
    "logging.info(f\"combine data shape: {data.shape}\")"
   ]
  },
  {
   "source": [
    "### More try..."
   ],
   "cell_type": "markdown",
   "metadata": {}
  },
  {
   "cell_type": "code",
   "execution_count": 43,
   "metadata": {},
   "outputs": [],
   "source": [
    "# 拆分数字特征和离散特征列表\n",
    "def num_cat_cols(x, THRESH=50):\n",
    "    a = x.apply(lambda x: x.nunique())\n",
    "    num_cols = a[a >THRESH].index.tolist()\n",
    "    cat_cols = a[a <=THRESH].index.tolist()\n",
    "    return num_cols, cat_cols"
   ]
  },
  {
   "cell_type": "code",
   "execution_count": 44,
   "metadata": {},
   "outputs": [],
   "source": [
    "num_cols, cat_cols = num_cat_cols(total_data)"
   ]
  },
  {
   "cell_type": "code",
   "execution_count": 14,
   "metadata": {},
   "outputs": [],
   "source": [
    "total_data = pd.concat([train.copy(), testA.copy()])"
   ]
  },
  {
   "cell_type": "code",
   "execution_count": 16,
   "metadata": {},
   "outputs": [
    {
     "output_type": "execute_result",
     "data": {
      "text/plain": [
       "   id   loanAmnt  term  interestRate  installment  grade  subGrade  \\\n",
       "0   0 35000.0000     5       19.5200     917.9700      4        21   \n",
       "1   1 18000.0000     5       18.4900     461.9000      3        16   \n",
       "2   2 12000.0000     5       16.9900     298.1700      3        17   \n",
       "3   3 11000.0000     3        7.2600     340.9600      0         3   \n",
       "4   4  3000.0000     3       12.9900     101.0700      2        11   \n",
       "\n",
       "   employmentTitle  employmentLength  homeOwnership  annualIncome  \\\n",
       "0         320.0000            2.0000              2   110000.0000   \n",
       "1      219843.0000            5.0000              0    46000.0000   \n",
       "2       31698.0000            8.0000              0    74000.0000   \n",
       "3       46854.0000           10.0000              1   118000.0000   \n",
       "4          54.0000               NaN              1    29000.0000   \n",
       "\n",
       "   verificationStatus   issueDate  isDefault  purpose  postCode  regionCode  \\\n",
       "0                   2  2014-07-01     1.0000        1  137.0000          32   \n",
       "1                   2  2012-08-01     0.0000        0  156.0000          18   \n",
       "2                   2  2015-10-01     0.0000        0  337.0000          14   \n",
       "3                   1  2015-08-01     0.0000        4  148.0000          11   \n",
       "4                   2  2016-03-01     0.0000       10  301.0000          21   \n",
       "\n",
       "      dti  delinquency_2years  ficoRangeLow  ficoRangeHigh  openAcc  pubRec  \\\n",
       "0 17.0500              0.0000      730.0000       734.0000   7.0000  0.0000   \n",
       "1 27.8300              0.0000      700.0000       704.0000  13.0000  0.0000   \n",
       "2 22.7700              0.0000      675.0000       679.0000  11.0000  0.0000   \n",
       "3 17.2100              0.0000      685.0000       689.0000   9.0000  0.0000   \n",
       "4 32.1600              0.0000      690.0000       694.0000  12.0000  0.0000   \n",
       "\n",
       "   pubRecBankruptcies   revolBal  revolUtil  totalAcc  initialListStatus  \\\n",
       "0              0.0000 24178.0000    48.9000   27.0000                  0   \n",
       "1              0.0000 15096.0000    38.9000   18.0000                  1   \n",
       "2              0.0000  4606.0000    51.8000   27.0000                  0   \n",
       "3              0.0000  9948.0000    52.6000   28.0000                  1   \n",
       "4              0.0000  2942.0000    32.0000   27.0000                  0   \n",
       "\n",
       "   applicationType earliesCreditLine     title  policyCode     n0     n1  \\\n",
       "0                0          Aug-2001    1.0000      1.0000 0.0000 2.0000   \n",
       "1                0          May-2002 1723.0000      1.0000    NaN    NaN   \n",
       "2                0          May-2006    0.0000      1.0000 0.0000 0.0000   \n",
       "3                0          May-1999    4.0000      1.0000 6.0000 4.0000   \n",
       "4                0          Aug-1977   11.0000      1.0000 1.0000 2.0000   \n",
       "\n",
       "      n2     n3      n4      n5      n6      n7      n8     n9     n10    n11  \\\n",
       "0 2.0000 2.0000  4.0000  9.0000  8.0000  4.0000 12.0000 2.0000  7.0000 0.0000   \n",
       "1    NaN    NaN 10.0000     NaN     NaN     NaN     NaN    NaN 13.0000    NaN   \n",
       "2 3.0000 3.0000  0.0000  0.0000 21.0000  4.0000  5.0000 3.0000 11.0000 0.0000   \n",
       "3 6.0000 6.0000  4.0000 16.0000  4.0000  7.0000 21.0000 6.0000  9.0000 0.0000   \n",
       "4 7.0000 7.0000  2.0000  4.0000  9.0000 10.0000 15.0000 7.0000 12.0000 0.0000   \n",
       "\n",
       "     n12    n13    n14  years_between_issueDate_and_earliesCreditLine  \\\n",
       "0 0.0000 0.0000 2.0000                                        13.0000   \n",
       "1    NaN    NaN    NaN                                        10.0000   \n",
       "2 0.0000 0.0000 4.0000                                         9.0000   \n",
       "3 0.0000 0.0000 1.0000                                        16.0000   \n",
       "4 0.0000 0.0000 4.0000                                        39.0000   \n",
       "\n",
       "   issueDate_to_now_days  earliesCreditLine_to_now_days  ficoRange  \\\n",
       "0                   2394                           7111     4.0000   \n",
       "1                   3093                           6838     4.0000   \n",
       "2                   1937                           5377     4.0000   \n",
       "3                   1998                           7934     4.0000   \n",
       "4                   1785                          15877     4.0000   \n",
       "\n",
       "   revolBal_p_totalAcc  totalAcc_m_openAcc  loanAmnt_term  \\\n",
       "0           24205.0000             20.0000      7000.0000   \n",
       "1           15114.0000              5.0000      3600.0000   \n",
       "2            4633.0000             16.0000      2400.0000   \n",
       "3            9976.0000             19.0000      3666.6667   \n",
       "4            2969.0000             15.0000      1000.0000   \n",
       "\n",
       "   annualIncome_loanAmnt_term         debt     pro  installment_annualIncome  \\\n",
       "0                     15.7143 1875500.0000 97.6000                    0.0083   \n",
       "1                     12.7778 1280180.0000 92.4500                    0.0100   \n",
       "2                     30.8333 1684980.0000 84.9500                    0.0040   \n",
       "3                     32.1818 2030780.0000 21.7800                    0.0029   \n",
       "4                     29.0000  932640.0000 38.9700                    0.0035   \n",
       "\n",
       "   loanAmnt_applicationType  eny_num  int_sub  pro_dti         top1    rec  \\\n",
       "0                35000.0000 547.0000   0.9295   5.7243 1757196.0000 0.0000   \n",
       "1                18000.0000 683.8000   1.1556   3.3220 2177472.0000 0.0000   \n",
       "2                12000.0000 597.4444   0.9994   3.7308 1315223.0000 0.0000   \n",
       "3                11000.0000 495.8750   2.4200   1.2655 1376622.0000 0.0000   \n",
       "4                 3000.0000 407.1026   1.1809   1.2118 1238790.0000 0.0000   \n",
       "\n",
       "   rec_rate  n_feat_min  n_feat_max  n_feat_sum  n_feat_mean  n_feat_median  \\\n",
       "0    0.0000      0.0000     12.0000     52.0000       3.7143         2.0000   \n",
       "1    0.0000     10.0000     13.0000     23.0000      11.5000        11.5000   \n",
       "2    0.0000      0.0000     21.0000     51.0000       3.6429         1.5000   \n",
       "3    0.0000      0.0000     21.0000     84.0000       6.0000         5.0000   \n",
       "4    0.0000      0.0000     15.0000     73.0000       5.2143         4.0000   \n",
       "\n",
       "   n_feat_skew  n_feat_std  n_feat_mode  n_feat_range  n_feat_Q25  n_feat_Q75  \\\n",
       "0       0.9512      3.8516       1.0000       12.0000      0.5000      6.2500   \n",
       "1          NaN      2.1213      11.5000        3.0000     10.7500     12.2500   \n",
       "2       2.3221      5.8914       0.0000       21.0000      0.0000      4.0000   \n",
       "3       1.4424      6.0764       3.3333       21.0000      1.7500      6.7500   \n",
       "4       0.6639      4.8703       0.0000       15.0000      1.2500      8.5000   \n",
       "\n",
       "  sample  \n",
       "0  train  \n",
       "1  train  \n",
       "2  train  \n",
       "3  train  \n",
       "4  train  "
      ],
      "text/html": "<div>\n<style scoped>\n    .dataframe tbody tr th:only-of-type {\n        vertical-align: middle;\n    }\n\n    .dataframe tbody tr th {\n        vertical-align: top;\n    }\n\n    .dataframe thead th {\n        text-align: right;\n    }\n</style>\n<table border=\"1\" class=\"dataframe\">\n  <thead>\n    <tr style=\"text-align: right;\">\n      <th></th>\n      <th>id</th>\n      <th>loanAmnt</th>\n      <th>term</th>\n      <th>interestRate</th>\n      <th>installment</th>\n      <th>grade</th>\n      <th>subGrade</th>\n      <th>employmentTitle</th>\n      <th>employmentLength</th>\n      <th>homeOwnership</th>\n      <th>annualIncome</th>\n      <th>verificationStatus</th>\n      <th>issueDate</th>\n      <th>isDefault</th>\n      <th>purpose</th>\n      <th>postCode</th>\n      <th>regionCode</th>\n      <th>dti</th>\n      <th>delinquency_2years</th>\n      <th>ficoRangeLow</th>\n      <th>ficoRangeHigh</th>\n      <th>openAcc</th>\n      <th>pubRec</th>\n      <th>pubRecBankruptcies</th>\n      <th>revolBal</th>\n      <th>revolUtil</th>\n      <th>totalAcc</th>\n      <th>initialListStatus</th>\n      <th>applicationType</th>\n      <th>earliesCreditLine</th>\n      <th>title</th>\n      <th>policyCode</th>\n      <th>n0</th>\n      <th>n1</th>\n      <th>n2</th>\n      <th>n3</th>\n      <th>n4</th>\n      <th>n5</th>\n      <th>n6</th>\n      <th>n7</th>\n      <th>n8</th>\n      <th>n9</th>\n      <th>n10</th>\n      <th>n11</th>\n      <th>n12</th>\n      <th>n13</th>\n      <th>n14</th>\n      <th>years_between_issueDate_and_earliesCreditLine</th>\n      <th>issueDate_to_now_days</th>\n      <th>earliesCreditLine_to_now_days</th>\n      <th>ficoRange</th>\n      <th>revolBal_p_totalAcc</th>\n      <th>totalAcc_m_openAcc</th>\n      <th>loanAmnt_term</th>\n      <th>annualIncome_loanAmnt_term</th>\n      <th>debt</th>\n      <th>pro</th>\n      <th>installment_annualIncome</th>\n      <th>loanAmnt_applicationType</th>\n      <th>eny_num</th>\n      <th>int_sub</th>\n      <th>pro_dti</th>\n      <th>top1</th>\n      <th>rec</th>\n      <th>rec_rate</th>\n      <th>n_feat_min</th>\n      <th>n_feat_max</th>\n      <th>n_feat_sum</th>\n      <th>n_feat_mean</th>\n      <th>n_feat_median</th>\n      <th>n_feat_skew</th>\n      <th>n_feat_std</th>\n      <th>n_feat_mode</th>\n      <th>n_feat_range</th>\n      <th>n_feat_Q25</th>\n      <th>n_feat_Q75</th>\n      <th>sample</th>\n    </tr>\n  </thead>\n  <tbody>\n    <tr>\n      <th>0</th>\n      <td>0</td>\n      <td>35000.0000</td>\n      <td>5</td>\n      <td>19.5200</td>\n      <td>917.9700</td>\n      <td>4</td>\n      <td>21</td>\n      <td>320.0000</td>\n      <td>2.0000</td>\n      <td>2</td>\n      <td>110000.0000</td>\n      <td>2</td>\n      <td>2014-07-01</td>\n      <td>1.0000</td>\n      <td>1</td>\n      <td>137.0000</td>\n      <td>32</td>\n      <td>17.0500</td>\n      <td>0.0000</td>\n      <td>730.0000</td>\n      <td>734.0000</td>\n      <td>7.0000</td>\n      <td>0.0000</td>\n      <td>0.0000</td>\n      <td>24178.0000</td>\n      <td>48.9000</td>\n      <td>27.0000</td>\n      <td>0</td>\n      <td>0</td>\n      <td>Aug-2001</td>\n      <td>1.0000</td>\n      <td>1.0000</td>\n      <td>0.0000</td>\n      <td>2.0000</td>\n      <td>2.0000</td>\n      <td>2.0000</td>\n      <td>4.0000</td>\n      <td>9.0000</td>\n      <td>8.0000</td>\n      <td>4.0000</td>\n      <td>12.0000</td>\n      <td>2.0000</td>\n      <td>7.0000</td>\n      <td>0.0000</td>\n      <td>0.0000</td>\n      <td>0.0000</td>\n      <td>2.0000</td>\n      <td>13.0000</td>\n      <td>2394</td>\n      <td>7111</td>\n      <td>4.0000</td>\n      <td>24205.0000</td>\n      <td>20.0000</td>\n      <td>7000.0000</td>\n      <td>15.7143</td>\n      <td>1875500.0000</td>\n      <td>97.6000</td>\n      <td>0.0083</td>\n      <td>35000.0000</td>\n      <td>547.0000</td>\n      <td>0.9295</td>\n      <td>5.7243</td>\n      <td>1757196.0000</td>\n      <td>0.0000</td>\n      <td>0.0000</td>\n      <td>0.0000</td>\n      <td>12.0000</td>\n      <td>52.0000</td>\n      <td>3.7143</td>\n      <td>2.0000</td>\n      <td>0.9512</td>\n      <td>3.8516</td>\n      <td>1.0000</td>\n      <td>12.0000</td>\n      <td>0.5000</td>\n      <td>6.2500</td>\n      <td>train</td>\n    </tr>\n    <tr>\n      <th>1</th>\n      <td>1</td>\n      <td>18000.0000</td>\n      <td>5</td>\n      <td>18.4900</td>\n      <td>461.9000</td>\n      <td>3</td>\n      <td>16</td>\n      <td>219843.0000</td>\n      <td>5.0000</td>\n      <td>0</td>\n      <td>46000.0000</td>\n      <td>2</td>\n      <td>2012-08-01</td>\n      <td>0.0000</td>\n      <td>0</td>\n      <td>156.0000</td>\n      <td>18</td>\n      <td>27.8300</td>\n      <td>0.0000</td>\n      <td>700.0000</td>\n      <td>704.0000</td>\n      <td>13.0000</td>\n      <td>0.0000</td>\n      <td>0.0000</td>\n      <td>15096.0000</td>\n      <td>38.9000</td>\n      <td>18.0000</td>\n      <td>1</td>\n      <td>0</td>\n      <td>May-2002</td>\n      <td>1723.0000</td>\n      <td>1.0000</td>\n      <td>NaN</td>\n      <td>NaN</td>\n      <td>NaN</td>\n      <td>NaN</td>\n      <td>10.0000</td>\n      <td>NaN</td>\n      <td>NaN</td>\n      <td>NaN</td>\n      <td>NaN</td>\n      <td>NaN</td>\n      <td>13.0000</td>\n      <td>NaN</td>\n      <td>NaN</td>\n      <td>NaN</td>\n      <td>NaN</td>\n      <td>10.0000</td>\n      <td>3093</td>\n      <td>6838</td>\n      <td>4.0000</td>\n      <td>15114.0000</td>\n      <td>5.0000</td>\n      <td>3600.0000</td>\n      <td>12.7778</td>\n      <td>1280180.0000</td>\n      <td>92.4500</td>\n      <td>0.0100</td>\n      <td>18000.0000</td>\n      <td>683.8000</td>\n      <td>1.1556</td>\n      <td>3.3220</td>\n      <td>2177472.0000</td>\n      <td>0.0000</td>\n      <td>0.0000</td>\n      <td>10.0000</td>\n      <td>13.0000</td>\n      <td>23.0000</td>\n      <td>11.5000</td>\n      <td>11.5000</td>\n      <td>NaN</td>\n      <td>2.1213</td>\n      <td>11.5000</td>\n      <td>3.0000</td>\n      <td>10.7500</td>\n      <td>12.2500</td>\n      <td>train</td>\n    </tr>\n    <tr>\n      <th>2</th>\n      <td>2</td>\n      <td>12000.0000</td>\n      <td>5</td>\n      <td>16.9900</td>\n      <td>298.1700</td>\n      <td>3</td>\n      <td>17</td>\n      <td>31698.0000</td>\n      <td>8.0000</td>\n      <td>0</td>\n      <td>74000.0000</td>\n      <td>2</td>\n      <td>2015-10-01</td>\n      <td>0.0000</td>\n      <td>0</td>\n      <td>337.0000</td>\n      <td>14</td>\n      <td>22.7700</td>\n      <td>0.0000</td>\n      <td>675.0000</td>\n      <td>679.0000</td>\n      <td>11.0000</td>\n      <td>0.0000</td>\n      <td>0.0000</td>\n      <td>4606.0000</td>\n      <td>51.8000</td>\n      <td>27.0000</td>\n      <td>0</td>\n      <td>0</td>\n      <td>May-2006</td>\n      <td>0.0000</td>\n      <td>1.0000</td>\n      <td>0.0000</td>\n      <td>0.0000</td>\n      <td>3.0000</td>\n      <td>3.0000</td>\n      <td>0.0000</td>\n      <td>0.0000</td>\n      <td>21.0000</td>\n      <td>4.0000</td>\n      <td>5.0000</td>\n      <td>3.0000</td>\n      <td>11.0000</td>\n      <td>0.0000</td>\n      <td>0.0000</td>\n      <td>0.0000</td>\n      <td>4.0000</td>\n      <td>9.0000</td>\n      <td>1937</td>\n      <td>5377</td>\n      <td>4.0000</td>\n      <td>4633.0000</td>\n      <td>16.0000</td>\n      <td>2400.0000</td>\n      <td>30.8333</td>\n      <td>1684980.0000</td>\n      <td>84.9500</td>\n      <td>0.0040</td>\n      <td>12000.0000</td>\n      <td>597.4444</td>\n      <td>0.9994</td>\n      <td>3.7308</td>\n      <td>1315223.0000</td>\n      <td>0.0000</td>\n      <td>0.0000</td>\n      <td>0.0000</td>\n      <td>21.0000</td>\n      <td>51.0000</td>\n      <td>3.6429</td>\n      <td>1.5000</td>\n      <td>2.3221</td>\n      <td>5.8914</td>\n      <td>0.0000</td>\n      <td>21.0000</td>\n      <td>0.0000</td>\n      <td>4.0000</td>\n      <td>train</td>\n    </tr>\n    <tr>\n      <th>3</th>\n      <td>3</td>\n      <td>11000.0000</td>\n      <td>3</td>\n      <td>7.2600</td>\n      <td>340.9600</td>\n      <td>0</td>\n      <td>3</td>\n      <td>46854.0000</td>\n      <td>10.0000</td>\n      <td>1</td>\n      <td>118000.0000</td>\n      <td>1</td>\n      <td>2015-08-01</td>\n      <td>0.0000</td>\n      <td>4</td>\n      <td>148.0000</td>\n      <td>11</td>\n      <td>17.2100</td>\n      <td>0.0000</td>\n      <td>685.0000</td>\n      <td>689.0000</td>\n      <td>9.0000</td>\n      <td>0.0000</td>\n      <td>0.0000</td>\n      <td>9948.0000</td>\n      <td>52.6000</td>\n      <td>28.0000</td>\n      <td>1</td>\n      <td>0</td>\n      <td>May-1999</td>\n      <td>4.0000</td>\n      <td>1.0000</td>\n      <td>6.0000</td>\n      <td>4.0000</td>\n      <td>6.0000</td>\n      <td>6.0000</td>\n      <td>4.0000</td>\n      <td>16.0000</td>\n      <td>4.0000</td>\n      <td>7.0000</td>\n      <td>21.0000</td>\n      <td>6.0000</td>\n      <td>9.0000</td>\n      <td>0.0000</td>\n      <td>0.0000</td>\n      <td>0.0000</td>\n      <td>1.0000</td>\n      <td>16.0000</td>\n      <td>1998</td>\n      <td>7934</td>\n      <td>4.0000</td>\n      <td>9976.0000</td>\n      <td>19.0000</td>\n      <td>3666.6667</td>\n      <td>32.1818</td>\n      <td>2030780.0000</td>\n      <td>21.7800</td>\n      <td>0.0029</td>\n      <td>11000.0000</td>\n      <td>495.8750</td>\n      <td>2.4200</td>\n      <td>1.2655</td>\n      <td>1376622.0000</td>\n      <td>0.0000</td>\n      <td>0.0000</td>\n      <td>0.0000</td>\n      <td>21.0000</td>\n      <td>84.0000</td>\n      <td>6.0000</td>\n      <td>5.0000</td>\n      <td>1.4424</td>\n      <td>6.0764</td>\n      <td>3.3333</td>\n      <td>21.0000</td>\n      <td>1.7500</td>\n      <td>6.7500</td>\n      <td>train</td>\n    </tr>\n    <tr>\n      <th>4</th>\n      <td>4</td>\n      <td>3000.0000</td>\n      <td>3</td>\n      <td>12.9900</td>\n      <td>101.0700</td>\n      <td>2</td>\n      <td>11</td>\n      <td>54.0000</td>\n      <td>NaN</td>\n      <td>1</td>\n      <td>29000.0000</td>\n      <td>2</td>\n      <td>2016-03-01</td>\n      <td>0.0000</td>\n      <td>10</td>\n      <td>301.0000</td>\n      <td>21</td>\n      <td>32.1600</td>\n      <td>0.0000</td>\n      <td>690.0000</td>\n      <td>694.0000</td>\n      <td>12.0000</td>\n      <td>0.0000</td>\n      <td>0.0000</td>\n      <td>2942.0000</td>\n      <td>32.0000</td>\n      <td>27.0000</td>\n      <td>0</td>\n      <td>0</td>\n      <td>Aug-1977</td>\n      <td>11.0000</td>\n      <td>1.0000</td>\n      <td>1.0000</td>\n      <td>2.0000</td>\n      <td>7.0000</td>\n      <td>7.0000</td>\n      <td>2.0000</td>\n      <td>4.0000</td>\n      <td>9.0000</td>\n      <td>10.0000</td>\n      <td>15.0000</td>\n      <td>7.0000</td>\n      <td>12.0000</td>\n      <td>0.0000</td>\n      <td>0.0000</td>\n      <td>0.0000</td>\n      <td>4.0000</td>\n      <td>39.0000</td>\n      <td>1785</td>\n      <td>15877</td>\n      <td>4.0000</td>\n      <td>2969.0000</td>\n      <td>15.0000</td>\n      <td>1000.0000</td>\n      <td>29.0000</td>\n      <td>932640.0000</td>\n      <td>38.9700</td>\n      <td>0.0035</td>\n      <td>3000.0000</td>\n      <td>407.1026</td>\n      <td>1.1809</td>\n      <td>1.2118</td>\n      <td>1238790.0000</td>\n      <td>0.0000</td>\n      <td>0.0000</td>\n      <td>0.0000</td>\n      <td>15.0000</td>\n      <td>73.0000</td>\n      <td>5.2143</td>\n      <td>4.0000</td>\n      <td>0.6639</td>\n      <td>4.8703</td>\n      <td>0.0000</td>\n      <td>15.0000</td>\n      <td>1.2500</td>\n      <td>8.5000</td>\n      <td>train</td>\n    </tr>\n  </tbody>\n</table>\n</div>"
     },
     "metadata": {},
     "execution_count": 16
    }
   ],
   "source": [
    "total_data.head()"
   ]
  },
  {
   "cell_type": "code",
   "execution_count": 47,
   "metadata": {},
   "outputs": [],
   "source": [
    "num_cols.remove('id')\n",
    "num_cols.remove('issueDate')\n",
    "num_cols.remove('earliesCreditLine')"
   ]
  },
  {
   "cell_type": "code",
   "execution_count": 51,
   "metadata": {},
   "outputs": [
    {
     "output_type": "stream",
     "name": "stdout",
     "text": [
      "loanAmnt\n",
      "interestRate\n",
      "installment\n",
      "employmentTitle\n",
      "annualIncome\n",
      "postCode\n",
      "regionCode\n",
      "dti\n",
      "openAcc\n",
      "revolBal\n",
      "revolUtil\n",
      "totalAcc\n",
      "title\n",
      "n2\n",
      "n3\n",
      "n5\n",
      "n6\n",
      "n7\n",
      "n8\n",
      "n10\n",
      "years_between_issueDate_and_earliesCreditLine\n",
      "issueDate_to_now_days\n",
      "earliesCreditLine_to_now_days\n",
      "revolBal_p_totalAcc\n",
      "totalAcc_m_openAcc\n",
      "loanAmnt_term\n",
      "annualIncome_loanAmnt_term\n",
      "debt\n"
     ]
    },
    {
     "output_type": "error",
     "ename": "ValueError",
     "evalue": "math domain error",
     "traceback": [
      "\u001b[0;31m---------------------------------------------------------------------------\u001b[0m",
      "\u001b[0;31mValueError\u001b[0m                                Traceback (most recent call last)",
      "\u001b[0;32m<ipython-input-51-94f8b56739de>\u001b[0m in \u001b[0;36m<module>\u001b[0;34m\u001b[0m\n\u001b[1;32m      2\u001b[0m \u001b[0;32mfor\u001b[0m \u001b[0mcol\u001b[0m \u001b[0;32min\u001b[0m \u001b[0mnum_cols\u001b[0m\u001b[0;34m:\u001b[0m\u001b[0;34m\u001b[0m\u001b[0;34m\u001b[0m\u001b[0m\n\u001b[1;32m      3\u001b[0m     \u001b[0mprint\u001b[0m\u001b[0;34m(\u001b[0m\u001b[0mcol\u001b[0m\u001b[0;34m)\u001b[0m\u001b[0;34m\u001b[0m\u001b[0;34m\u001b[0m\u001b[0m\n\u001b[0;32m----> 4\u001b[0;31m     \u001b[0mtotal_data\u001b[0m\u001b[0;34m[\u001b[0m\u001b[0mcol\u001b[0m\u001b[0;34m]\u001b[0m \u001b[0;34m=\u001b[0m \u001b[0mtotal_data\u001b[0m\u001b[0;34m[\u001b[0m\u001b[0mcol\u001b[0m\u001b[0;34m]\u001b[0m\u001b[0;34m.\u001b[0m\u001b[0mapply\u001b[0m\u001b[0;34m(\u001b[0m\u001b[0;32mlambda\u001b[0m \u001b[0mx\u001b[0m\u001b[0;34m:\u001b[0m \u001b[0mmath\u001b[0m\u001b[0;34m.\u001b[0m\u001b[0mlog\u001b[0m\u001b[0;34m(\u001b[0m\u001b[0mnp\u001b[0m\u001b[0;34m.\u001b[0m\u001b[0mfloat\u001b[0m\u001b[0;34m(\u001b[0m\u001b[0mx\u001b[0m\u001b[0;34m)\u001b[0m\u001b[0;34m+\u001b[0m\u001b[0;36m1.001\u001b[0m\u001b[0;34m)\u001b[0m\u001b[0;34m)\u001b[0m\u001b[0;34m\u001b[0m\u001b[0;34m\u001b[0m\u001b[0m\n\u001b[0m",
      "\u001b[0;32m~/anaconda3/lib/python3.7/site-packages/pandas/core/series.py\u001b[0m in \u001b[0;36mapply\u001b[0;34m(self, func, convert_dtype, args, **kwds)\u001b[0m\n\u001b[1;32m   4106\u001b[0m             \u001b[0;32melse\u001b[0m\u001b[0;34m:\u001b[0m\u001b[0;34m\u001b[0m\u001b[0;34m\u001b[0m\u001b[0m\n\u001b[1;32m   4107\u001b[0m                 \u001b[0mvalues\u001b[0m \u001b[0;34m=\u001b[0m \u001b[0mself\u001b[0m\u001b[0;34m.\u001b[0m\u001b[0mastype\u001b[0m\u001b[0;34m(\u001b[0m\u001b[0mobject\u001b[0m\u001b[0;34m)\u001b[0m\u001b[0;34m.\u001b[0m\u001b[0m_values\u001b[0m\u001b[0;34m\u001b[0m\u001b[0;34m\u001b[0m\u001b[0m\n\u001b[0;32m-> 4108\u001b[0;31m                 \u001b[0mmapped\u001b[0m \u001b[0;34m=\u001b[0m \u001b[0mlib\u001b[0m\u001b[0;34m.\u001b[0m\u001b[0mmap_infer\u001b[0m\u001b[0;34m(\u001b[0m\u001b[0mvalues\u001b[0m\u001b[0;34m,\u001b[0m \u001b[0mf\u001b[0m\u001b[0;34m,\u001b[0m \u001b[0mconvert\u001b[0m\u001b[0;34m=\u001b[0m\u001b[0mconvert_dtype\u001b[0m\u001b[0;34m)\u001b[0m\u001b[0;34m\u001b[0m\u001b[0;34m\u001b[0m\u001b[0m\n\u001b[0m\u001b[1;32m   4109\u001b[0m \u001b[0;34m\u001b[0m\u001b[0m\n\u001b[1;32m   4110\u001b[0m         \u001b[0;32mif\u001b[0m \u001b[0mlen\u001b[0m\u001b[0;34m(\u001b[0m\u001b[0mmapped\u001b[0m\u001b[0;34m)\u001b[0m \u001b[0;32mand\u001b[0m \u001b[0misinstance\u001b[0m\u001b[0;34m(\u001b[0m\u001b[0mmapped\u001b[0m\u001b[0;34m[\u001b[0m\u001b[0;36m0\u001b[0m\u001b[0;34m]\u001b[0m\u001b[0;34m,\u001b[0m \u001b[0mSeries\u001b[0m\u001b[0;34m)\u001b[0m\u001b[0;34m:\u001b[0m\u001b[0;34m\u001b[0m\u001b[0;34m\u001b[0m\u001b[0m\n",
      "\u001b[0;32mpandas/_libs/lib.pyx\u001b[0m in \u001b[0;36mpandas._libs.lib.map_infer\u001b[0;34m()\u001b[0m\n",
      "\u001b[0;32m<ipython-input-51-94f8b56739de>\u001b[0m in \u001b[0;36m<lambda>\u001b[0;34m(x)\u001b[0m\n\u001b[1;32m      2\u001b[0m \u001b[0;32mfor\u001b[0m \u001b[0mcol\u001b[0m \u001b[0;32min\u001b[0m \u001b[0mnum_cols\u001b[0m\u001b[0;34m:\u001b[0m\u001b[0;34m\u001b[0m\u001b[0;34m\u001b[0m\u001b[0m\n\u001b[1;32m      3\u001b[0m     \u001b[0mprint\u001b[0m\u001b[0;34m(\u001b[0m\u001b[0mcol\u001b[0m\u001b[0;34m)\u001b[0m\u001b[0;34m\u001b[0m\u001b[0;34m\u001b[0m\u001b[0m\n\u001b[0;32m----> 4\u001b[0;31m     \u001b[0mtotal_data\u001b[0m\u001b[0;34m[\u001b[0m\u001b[0mcol\u001b[0m\u001b[0;34m]\u001b[0m \u001b[0;34m=\u001b[0m \u001b[0mtotal_data\u001b[0m\u001b[0;34m[\u001b[0m\u001b[0mcol\u001b[0m\u001b[0;34m]\u001b[0m\u001b[0;34m.\u001b[0m\u001b[0mapply\u001b[0m\u001b[0;34m(\u001b[0m\u001b[0;32mlambda\u001b[0m \u001b[0mx\u001b[0m\u001b[0;34m:\u001b[0m \u001b[0mmath\u001b[0m\u001b[0;34m.\u001b[0m\u001b[0mlog\u001b[0m\u001b[0;34m(\u001b[0m\u001b[0mnp\u001b[0m\u001b[0;34m.\u001b[0m\u001b[0mfloat\u001b[0m\u001b[0;34m(\u001b[0m\u001b[0mx\u001b[0m\u001b[0;34m)\u001b[0m\u001b[0;34m+\u001b[0m\u001b[0;36m1.001\u001b[0m\u001b[0;34m)\u001b[0m\u001b[0;34m)\u001b[0m\u001b[0;34m\u001b[0m\u001b[0;34m\u001b[0m\u001b[0m\n\u001b[0m",
      "\u001b[0;31mValueError\u001b[0m: math domain error"
     ]
    }
   ],
   "source": [
    "# 对连续变量log化处理\n",
    "for col in num_cols:\n",
    "    total_data[col] = total_data[col].apply(lambda x: math.log(np.float(x)+1.001))"
   ]
  },
  {
   "source": [
    "total_data[total_data.debt<0]"
   ],
   "cell_type": "code",
   "metadata": {},
   "execution_count": 53,
   "outputs": [
    {
     "output_type": "execute_result",
     "data": {
      "text/plain": [
       "            id  loanAmnt  term  interestRate  installment  grade  subGrade  \\\n",
       "258110  258110    1.2164     5        0.8338       1.0794      2        11   \n",
       "356894  356894    1.2129     3        0.7963       1.0894      1         7   \n",
       "\n",
       "        employmentTitle  employmentLength  homeOwnership  annualIncome  \\\n",
       "258110           1.0836           10.0000              0        1.2540   \n",
       "356894           1.2494            5.0000              0        1.2593   \n",
       "\n",
       "        verificationStatus   issueDate  isDefault  purpose  postCode  \\\n",
       "258110                   0  2017-03-01     0.0000        0    0.9367   \n",
       "356894                   1  2016-03-01     0.0000        0    1.0756   \n",
       "\n",
       "        regionCode     dti  delinquency_2years  ficoRangeLow  ficoRangeHigh  \\\n",
       "258110      0.8107 -6.9078              1.0000      685.0000       689.0000   \n",
       "356894      0.9256 -6.9078              0.0000      670.0000       674.0000   \n",
       "\n",
       "        openAcc  pubRec  pubRecBankruptcies  revolBal  revolUtil  totalAcc  \\\n",
       "258110   2.5650  0.0000              0.0000   10.7052     4.3720    3.5554   \n",
       "356894   2.5650  1.0000              1.0000    9.6451     3.8459    3.2189   \n",
       "\n",
       "        initialListStatus  applicationType earliesCreditLine  title     n0  \\\n",
       "258110                  0                1          Sep-1992 0.0010 0.0000   \n",
       "356894                  0                0          Sep-2003 0.0010 0.0000   \n",
       "\n",
       "           n1     n2     n3     n4     n5     n6     n7     n8      n9    n10  \\\n",
       "258110 5.0000 2.3980 2.3980 5.0000 2.1973 2.3027 2.3980 3.1355 10.0000 2.5650   \n",
       "356894 3.0000 1.7919 1.7919 3.0000 1.9461 2.3980 2.3027 2.6391  5.0000 2.4850   \n",
       "\n",
       "          n11    n12    n13    n14  \\\n",
       "258110 0.0000 0.0000 0.0000 1.0000   \n",
       "356894 0.0000 0.0000 0.0000 3.0000   \n",
       "\n",
       "        years_between_issueDate_and_earliesCreditLine  issueDate_to_now_days  \\\n",
       "258110                                         3.2581                 7.2584   \n",
       "356894                                         2.6391                 7.4872   \n",
       "\n",
       "        earliesCreditLine_to_now_days  ficoRange  revolBal_p_totalAcc  \\\n",
       "258110                         9.2464     4.0000              10.7060   \n",
       "356894                         8.7562     4.0000               9.6467   \n",
       "\n",
       "        totalAcc_m_openAcc  loanAmnt_term  annualIncome_loanAmnt_term  \\\n",
       "258110              3.1355         8.1318                      3.1381   \n",
       "356894              2.5650         8.5174                      2.9857   \n",
       "\n",
       "              debt     pro  installment_annualIncome  \\\n",
       "258110 -75000.0000 67.4500                    0.0052   \n",
       "356894 -94000.0000 29.2500                    0.0051   \n",
       "\n",
       "        loanAmnt_applicationType  eny_num  int_sub  pro_dti         top1  \\\n",
       "258110                 8500.0000 414.6400   1.2264 -67.4500  977691.0000   \n",
       "356894                15000.0000 488.3846   1.3929 -29.2500 1202416.0000   \n",
       "\n",
       "          rec  rec_rate  n_feat_min  n_feat_max  n_feat_sum  n_feat_mean  \\\n",
       "258110 0.0000    0.0000      0.0000     22.0000     92.0000       6.5714   \n",
       "356894 0.0000    0.5000      0.0000     13.0000     68.0000       4.8571   \n",
       "\n",
       "        n_feat_median  n_feat_skew  n_feat_std  n_feat_mode  \n",
       "258110         6.5000       0.9434      6.3211       2.7534  \n",
       "356894         4.0000       0.5233      4.4177       2.7534  "
      ],
      "text/html": "<div>\n<style scoped>\n    .dataframe tbody tr th:only-of-type {\n        vertical-align: middle;\n    }\n\n    .dataframe tbody tr th {\n        vertical-align: top;\n    }\n\n    .dataframe thead th {\n        text-align: right;\n    }\n</style>\n<table border=\"1\" class=\"dataframe\">\n  <thead>\n    <tr style=\"text-align: right;\">\n      <th></th>\n      <th>id</th>\n      <th>loanAmnt</th>\n      <th>term</th>\n      <th>interestRate</th>\n      <th>installment</th>\n      <th>grade</th>\n      <th>subGrade</th>\n      <th>employmentTitle</th>\n      <th>employmentLength</th>\n      <th>homeOwnership</th>\n      <th>annualIncome</th>\n      <th>verificationStatus</th>\n      <th>issueDate</th>\n      <th>isDefault</th>\n      <th>purpose</th>\n      <th>postCode</th>\n      <th>regionCode</th>\n      <th>dti</th>\n      <th>delinquency_2years</th>\n      <th>ficoRangeLow</th>\n      <th>ficoRangeHigh</th>\n      <th>openAcc</th>\n      <th>pubRec</th>\n      <th>pubRecBankruptcies</th>\n      <th>revolBal</th>\n      <th>revolUtil</th>\n      <th>totalAcc</th>\n      <th>initialListStatus</th>\n      <th>applicationType</th>\n      <th>earliesCreditLine</th>\n      <th>title</th>\n      <th>n0</th>\n      <th>n1</th>\n      <th>n2</th>\n      <th>n3</th>\n      <th>n4</th>\n      <th>n5</th>\n      <th>n6</th>\n      <th>n7</th>\n      <th>n8</th>\n      <th>n9</th>\n      <th>n10</th>\n      <th>n11</th>\n      <th>n12</th>\n      <th>n13</th>\n      <th>n14</th>\n      <th>years_between_issueDate_and_earliesCreditLine</th>\n      <th>issueDate_to_now_days</th>\n      <th>earliesCreditLine_to_now_days</th>\n      <th>ficoRange</th>\n      <th>revolBal_p_totalAcc</th>\n      <th>totalAcc_m_openAcc</th>\n      <th>loanAmnt_term</th>\n      <th>annualIncome_loanAmnt_term</th>\n      <th>debt</th>\n      <th>pro</th>\n      <th>installment_annualIncome</th>\n      <th>loanAmnt_applicationType</th>\n      <th>eny_num</th>\n      <th>int_sub</th>\n      <th>pro_dti</th>\n      <th>top1</th>\n      <th>rec</th>\n      <th>rec_rate</th>\n      <th>n_feat_min</th>\n      <th>n_feat_max</th>\n      <th>n_feat_sum</th>\n      <th>n_feat_mean</th>\n      <th>n_feat_median</th>\n      <th>n_feat_skew</th>\n      <th>n_feat_std</th>\n      <th>n_feat_mode</th>\n    </tr>\n  </thead>\n  <tbody>\n    <tr>\n      <th>258110</th>\n      <td>258110</td>\n      <td>1.2164</td>\n      <td>5</td>\n      <td>0.8338</td>\n      <td>1.0794</td>\n      <td>2</td>\n      <td>11</td>\n      <td>1.0836</td>\n      <td>10.0000</td>\n      <td>0</td>\n      <td>1.2540</td>\n      <td>0</td>\n      <td>2017-03-01</td>\n      <td>0.0000</td>\n      <td>0</td>\n      <td>0.9367</td>\n      <td>0.8107</td>\n      <td>-6.9078</td>\n      <td>1.0000</td>\n      <td>685.0000</td>\n      <td>689.0000</td>\n      <td>2.5650</td>\n      <td>0.0000</td>\n      <td>0.0000</td>\n      <td>10.7052</td>\n      <td>4.3720</td>\n      <td>3.5554</td>\n      <td>0</td>\n      <td>1</td>\n      <td>Sep-1992</td>\n      <td>0.0010</td>\n      <td>0.0000</td>\n      <td>5.0000</td>\n      <td>2.3980</td>\n      <td>2.3980</td>\n      <td>5.0000</td>\n      <td>2.1973</td>\n      <td>2.3027</td>\n      <td>2.3980</td>\n      <td>3.1355</td>\n      <td>10.0000</td>\n      <td>2.5650</td>\n      <td>0.0000</td>\n      <td>0.0000</td>\n      <td>0.0000</td>\n      <td>1.0000</td>\n      <td>3.2581</td>\n      <td>7.2584</td>\n      <td>9.2464</td>\n      <td>4.0000</td>\n      <td>10.7060</td>\n      <td>3.1355</td>\n      <td>8.1318</td>\n      <td>3.1381</td>\n      <td>-75000.0000</td>\n      <td>67.4500</td>\n      <td>0.0052</td>\n      <td>8500.0000</td>\n      <td>414.6400</td>\n      <td>1.2264</td>\n      <td>-67.4500</td>\n      <td>977691.0000</td>\n      <td>0.0000</td>\n      <td>0.0000</td>\n      <td>0.0000</td>\n      <td>22.0000</td>\n      <td>92.0000</td>\n      <td>6.5714</td>\n      <td>6.5000</td>\n      <td>0.9434</td>\n      <td>6.3211</td>\n      <td>2.7534</td>\n    </tr>\n    <tr>\n      <th>356894</th>\n      <td>356894</td>\n      <td>1.2129</td>\n      <td>3</td>\n      <td>0.7963</td>\n      <td>1.0894</td>\n      <td>1</td>\n      <td>7</td>\n      <td>1.2494</td>\n      <td>5.0000</td>\n      <td>0</td>\n      <td>1.2593</td>\n      <td>1</td>\n      <td>2016-03-01</td>\n      <td>0.0000</td>\n      <td>0</td>\n      <td>1.0756</td>\n      <td>0.9256</td>\n      <td>-6.9078</td>\n      <td>0.0000</td>\n      <td>670.0000</td>\n      <td>674.0000</td>\n      <td>2.5650</td>\n      <td>1.0000</td>\n      <td>1.0000</td>\n      <td>9.6451</td>\n      <td>3.8459</td>\n      <td>3.2189</td>\n      <td>0</td>\n      <td>0</td>\n      <td>Sep-2003</td>\n      <td>0.0010</td>\n      <td>0.0000</td>\n      <td>3.0000</td>\n      <td>1.7919</td>\n      <td>1.7919</td>\n      <td>3.0000</td>\n      <td>1.9461</td>\n      <td>2.3980</td>\n      <td>2.3027</td>\n      <td>2.6391</td>\n      <td>5.0000</td>\n      <td>2.4850</td>\n      <td>0.0000</td>\n      <td>0.0000</td>\n      <td>0.0000</td>\n      <td>3.0000</td>\n      <td>2.6391</td>\n      <td>7.4872</td>\n      <td>8.7562</td>\n      <td>4.0000</td>\n      <td>9.6467</td>\n      <td>2.5650</td>\n      <td>8.5174</td>\n      <td>2.9857</td>\n      <td>-94000.0000</td>\n      <td>29.2500</td>\n      <td>0.0051</td>\n      <td>15000.0000</td>\n      <td>488.3846</td>\n      <td>1.3929</td>\n      <td>-29.2500</td>\n      <td>1202416.0000</td>\n      <td>0.0000</td>\n      <td>0.5000</td>\n      <td>0.0000</td>\n      <td>13.0000</td>\n      <td>68.0000</td>\n      <td>4.8571</td>\n      <td>4.0000</td>\n      <td>0.5233</td>\n      <td>4.4177</td>\n      <td>2.7534</td>\n    </tr>\n  </tbody>\n</table>\n</div>"
     },
     "metadata": {},
     "execution_count": 53
    }
   ]
  },
  {
   "source": [
    "### 合并输出"
   ],
   "cell_type": "markdown",
   "metadata": {}
  },
  {
   "cell_type": "code",
   "execution_count": null,
   "metadata": {},
   "outputs": [],
   "source": []
  }
 ]
}