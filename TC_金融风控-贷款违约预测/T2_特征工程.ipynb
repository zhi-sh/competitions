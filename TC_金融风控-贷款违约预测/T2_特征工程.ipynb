{
 "metadata": {
  "language_info": {
   "codemirror_mode": {
    "name": "ipython",
    "version": 3
   },
   "file_extension": ".py",
   "mimetype": "text/x-python",
   "name": "python",
   "nbconvert_exporter": "python",
   "pygments_lexer": "ipython3",
   "version": "3.7.4-final"
  },
  "orig_nbformat": 2,
  "kernelspec": {
   "name": "python3",
   "display_name": "Python 3",
   "language": "python"
  }
 },
 "nbformat": 4,
 "nbformat_minor": 2,
 "cells": [
  {
   "source": [
    "%reload_ext autoreload\n",
    "%autoreload 2\n",
    "%matplotlib inline\n",
    "\n",
    "import math\n",
    "import datetime\n",
    "import logging\n",
    "import warnings\n",
    "from pathlib import Path \n",
    "from datetime import datetime\n",
    "\n",
    "import pandas as pd \n",
    "import numpy as np \n",
    "from tqdm import tqdm\n",
    "\n",
    "from utils import *\n",
    "\n",
    "pd.options.display.max_columns = None\n",
    "pd.set_option('display.float_format', lambda x: '%.4f' % x)\n",
    "warnings.filterwarnings('ignore')"
   ],
   "cell_type": "code",
   "metadata": {},
   "execution_count": 1,
   "outputs": []
  },
  {
   "cell_type": "code",
   "execution_count": 2,
   "metadata": {
    "tags": []
   },
   "outputs": [],
   "source": [
    "logging.basicConfig(level=logging.INFO, format='%(asctime)-15s %(levelname)s: %(message)s')\n",
    "# 数据集目录\n",
    "data_path = Path(r'data/tc')"
   ]
  },
  {
   "cell_type": "code",
   "execution_count": 3,
   "metadata": {},
   "outputs": [
    {
     "output_type": "stream",
     "name": "stderr",
     "text": [
      "2021-01-26 08:56:30,099 INFO: train shape: (800000, 47)\n",
      "2021-01-26 08:56:30,108 INFO: testA shape: (200000, 46)\n"
     ]
    },
    {
     "output_type": "execute_result",
     "data": {
      "text/plain": [
       "   id   loanAmnt  term  interestRate  installment grade subGrade  \\\n",
       "0   0 35000.0000     5       19.5200     917.9700     E       E2   \n",
       "1   1 18000.0000     5       18.4900     461.9000     D       D2   \n",
       "2   2 12000.0000     5       16.9900     298.1700     D       D3   \n",
       "3   3 11000.0000     3        7.2600     340.9600     A       A4   \n",
       "4   4  3000.0000     3       12.9900     101.0700     C       C2   \n",
       "\n",
       "   employmentTitle employmentLength  homeOwnership  annualIncome  \\\n",
       "0         320.0000          2 years              2   110000.0000   \n",
       "1      219843.0000          5 years              0    46000.0000   \n",
       "2       31698.0000          8 years              0    74000.0000   \n",
       "3       46854.0000        10+ years              1   118000.0000   \n",
       "4          54.0000              NaN              1    29000.0000   \n",
       "\n",
       "   verificationStatus   issueDate  isDefault  purpose  postCode  regionCode  \\\n",
       "0                   2  2014-07-01          1        1  137.0000          32   \n",
       "1                   2  2012-08-01          0        0  156.0000          18   \n",
       "2                   2  2015-10-01          0        0  337.0000          14   \n",
       "3                   1  2015-08-01          0        4  148.0000          11   \n",
       "4                   2  2016-03-01          0       10  301.0000          21   \n",
       "\n",
       "      dti  delinquency_2years  ficoRangeLow  ficoRangeHigh  openAcc  pubRec  \\\n",
       "0 17.0500              0.0000      730.0000       734.0000   7.0000  0.0000   \n",
       "1 27.8300              0.0000      700.0000       704.0000  13.0000  0.0000   \n",
       "2 22.7700              0.0000      675.0000       679.0000  11.0000  0.0000   \n",
       "3 17.2100              0.0000      685.0000       689.0000   9.0000  0.0000   \n",
       "4 32.1600              0.0000      690.0000       694.0000  12.0000  0.0000   \n",
       "\n",
       "   pubRecBankruptcies   revolBal  revolUtil  totalAcc  initialListStatus  \\\n",
       "0              0.0000 24178.0000    48.9000   27.0000                  0   \n",
       "1              0.0000 15096.0000    38.9000   18.0000                  1   \n",
       "2              0.0000  4606.0000    51.8000   27.0000                  0   \n",
       "3              0.0000  9948.0000    52.6000   28.0000                  1   \n",
       "4              0.0000  2942.0000    32.0000   27.0000                  0   \n",
       "\n",
       "   applicationType earliesCreditLine     title  policyCode     n0     n1  \\\n",
       "0                0          Aug-2001    1.0000      1.0000 0.0000 2.0000   \n",
       "1                0          May-2002 1723.0000      1.0000    nan    nan   \n",
       "2                0          May-2006    0.0000      1.0000 0.0000 0.0000   \n",
       "3                0          May-1999    4.0000      1.0000 6.0000 4.0000   \n",
       "4                0          Aug-1977   11.0000      1.0000 1.0000 2.0000   \n",
       "\n",
       "      n2     n3      n4      n5      n6      n7      n8     n9     n10    n11  \\\n",
       "0 2.0000 2.0000  4.0000  9.0000  8.0000  4.0000 12.0000 2.0000  7.0000 0.0000   \n",
       "1    nan    nan 10.0000     nan     nan     nan     nan    nan 13.0000    nan   \n",
       "2 3.0000 3.0000  0.0000  0.0000 21.0000  4.0000  5.0000 3.0000 11.0000 0.0000   \n",
       "3 6.0000 6.0000  4.0000 16.0000  4.0000  7.0000 21.0000 6.0000  9.0000 0.0000   \n",
       "4 7.0000 7.0000  2.0000  4.0000  9.0000 10.0000 15.0000 7.0000 12.0000 0.0000   \n",
       "\n",
       "     n12    n13    n14  \n",
       "0 0.0000 0.0000 2.0000  \n",
       "1    nan    nan    nan  \n",
       "2 0.0000 0.0000 4.0000  \n",
       "3 0.0000 0.0000 1.0000  \n",
       "4 0.0000 0.0000 4.0000  "
      ],
      "text/html": "<div>\n<style scoped>\n    .dataframe tbody tr th:only-of-type {\n        vertical-align: middle;\n    }\n\n    .dataframe tbody tr th {\n        vertical-align: top;\n    }\n\n    .dataframe thead th {\n        text-align: right;\n    }\n</style>\n<table border=\"1\" class=\"dataframe\">\n  <thead>\n    <tr style=\"text-align: right;\">\n      <th></th>\n      <th>id</th>\n      <th>loanAmnt</th>\n      <th>term</th>\n      <th>interestRate</th>\n      <th>installment</th>\n      <th>grade</th>\n      <th>subGrade</th>\n      <th>employmentTitle</th>\n      <th>employmentLength</th>\n      <th>homeOwnership</th>\n      <th>annualIncome</th>\n      <th>verificationStatus</th>\n      <th>issueDate</th>\n      <th>isDefault</th>\n      <th>purpose</th>\n      <th>postCode</th>\n      <th>regionCode</th>\n      <th>dti</th>\n      <th>delinquency_2years</th>\n      <th>ficoRangeLow</th>\n      <th>ficoRangeHigh</th>\n      <th>openAcc</th>\n      <th>pubRec</th>\n      <th>pubRecBankruptcies</th>\n      <th>revolBal</th>\n      <th>revolUtil</th>\n      <th>totalAcc</th>\n      <th>initialListStatus</th>\n      <th>applicationType</th>\n      <th>earliesCreditLine</th>\n      <th>title</th>\n      <th>policyCode</th>\n      <th>n0</th>\n      <th>n1</th>\n      <th>n2</th>\n      <th>n3</th>\n      <th>n4</th>\n      <th>n5</th>\n      <th>n6</th>\n      <th>n7</th>\n      <th>n8</th>\n      <th>n9</th>\n      <th>n10</th>\n      <th>n11</th>\n      <th>n12</th>\n      <th>n13</th>\n      <th>n14</th>\n    </tr>\n  </thead>\n  <tbody>\n    <tr>\n      <th>0</th>\n      <td>0</td>\n      <td>35000.0000</td>\n      <td>5</td>\n      <td>19.5200</td>\n      <td>917.9700</td>\n      <td>E</td>\n      <td>E2</td>\n      <td>320.0000</td>\n      <td>2 years</td>\n      <td>2</td>\n      <td>110000.0000</td>\n      <td>2</td>\n      <td>2014-07-01</td>\n      <td>1</td>\n      <td>1</td>\n      <td>137.0000</td>\n      <td>32</td>\n      <td>17.0500</td>\n      <td>0.0000</td>\n      <td>730.0000</td>\n      <td>734.0000</td>\n      <td>7.0000</td>\n      <td>0.0000</td>\n      <td>0.0000</td>\n      <td>24178.0000</td>\n      <td>48.9000</td>\n      <td>27.0000</td>\n      <td>0</td>\n      <td>0</td>\n      <td>Aug-2001</td>\n      <td>1.0000</td>\n      <td>1.0000</td>\n      <td>0.0000</td>\n      <td>2.0000</td>\n      <td>2.0000</td>\n      <td>2.0000</td>\n      <td>4.0000</td>\n      <td>9.0000</td>\n      <td>8.0000</td>\n      <td>4.0000</td>\n      <td>12.0000</td>\n      <td>2.0000</td>\n      <td>7.0000</td>\n      <td>0.0000</td>\n      <td>0.0000</td>\n      <td>0.0000</td>\n      <td>2.0000</td>\n    </tr>\n    <tr>\n      <th>1</th>\n      <td>1</td>\n      <td>18000.0000</td>\n      <td>5</td>\n      <td>18.4900</td>\n      <td>461.9000</td>\n      <td>D</td>\n      <td>D2</td>\n      <td>219843.0000</td>\n      <td>5 years</td>\n      <td>0</td>\n      <td>46000.0000</td>\n      <td>2</td>\n      <td>2012-08-01</td>\n      <td>0</td>\n      <td>0</td>\n      <td>156.0000</td>\n      <td>18</td>\n      <td>27.8300</td>\n      <td>0.0000</td>\n      <td>700.0000</td>\n      <td>704.0000</td>\n      <td>13.0000</td>\n      <td>0.0000</td>\n      <td>0.0000</td>\n      <td>15096.0000</td>\n      <td>38.9000</td>\n      <td>18.0000</td>\n      <td>1</td>\n      <td>0</td>\n      <td>May-2002</td>\n      <td>1723.0000</td>\n      <td>1.0000</td>\n      <td>nan</td>\n      <td>nan</td>\n      <td>nan</td>\n      <td>nan</td>\n      <td>10.0000</td>\n      <td>nan</td>\n      <td>nan</td>\n      <td>nan</td>\n      <td>nan</td>\n      <td>nan</td>\n      <td>13.0000</td>\n      <td>nan</td>\n      <td>nan</td>\n      <td>nan</td>\n      <td>nan</td>\n    </tr>\n    <tr>\n      <th>2</th>\n      <td>2</td>\n      <td>12000.0000</td>\n      <td>5</td>\n      <td>16.9900</td>\n      <td>298.1700</td>\n      <td>D</td>\n      <td>D3</td>\n      <td>31698.0000</td>\n      <td>8 years</td>\n      <td>0</td>\n      <td>74000.0000</td>\n      <td>2</td>\n      <td>2015-10-01</td>\n      <td>0</td>\n      <td>0</td>\n      <td>337.0000</td>\n      <td>14</td>\n      <td>22.7700</td>\n      <td>0.0000</td>\n      <td>675.0000</td>\n      <td>679.0000</td>\n      <td>11.0000</td>\n      <td>0.0000</td>\n      <td>0.0000</td>\n      <td>4606.0000</td>\n      <td>51.8000</td>\n      <td>27.0000</td>\n      <td>0</td>\n      <td>0</td>\n      <td>May-2006</td>\n      <td>0.0000</td>\n      <td>1.0000</td>\n      <td>0.0000</td>\n      <td>0.0000</td>\n      <td>3.0000</td>\n      <td>3.0000</td>\n      <td>0.0000</td>\n      <td>0.0000</td>\n      <td>21.0000</td>\n      <td>4.0000</td>\n      <td>5.0000</td>\n      <td>3.0000</td>\n      <td>11.0000</td>\n      <td>0.0000</td>\n      <td>0.0000</td>\n      <td>0.0000</td>\n      <td>4.0000</td>\n    </tr>\n    <tr>\n      <th>3</th>\n      <td>3</td>\n      <td>11000.0000</td>\n      <td>3</td>\n      <td>7.2600</td>\n      <td>340.9600</td>\n      <td>A</td>\n      <td>A4</td>\n      <td>46854.0000</td>\n      <td>10+ years</td>\n      <td>1</td>\n      <td>118000.0000</td>\n      <td>1</td>\n      <td>2015-08-01</td>\n      <td>0</td>\n      <td>4</td>\n      <td>148.0000</td>\n      <td>11</td>\n      <td>17.2100</td>\n      <td>0.0000</td>\n      <td>685.0000</td>\n      <td>689.0000</td>\n      <td>9.0000</td>\n      <td>0.0000</td>\n      <td>0.0000</td>\n      <td>9948.0000</td>\n      <td>52.6000</td>\n      <td>28.0000</td>\n      <td>1</td>\n      <td>0</td>\n      <td>May-1999</td>\n      <td>4.0000</td>\n      <td>1.0000</td>\n      <td>6.0000</td>\n      <td>4.0000</td>\n      <td>6.0000</td>\n      <td>6.0000</td>\n      <td>4.0000</td>\n      <td>16.0000</td>\n      <td>4.0000</td>\n      <td>7.0000</td>\n      <td>21.0000</td>\n      <td>6.0000</td>\n      <td>9.0000</td>\n      <td>0.0000</td>\n      <td>0.0000</td>\n      <td>0.0000</td>\n      <td>1.0000</td>\n    </tr>\n    <tr>\n      <th>4</th>\n      <td>4</td>\n      <td>3000.0000</td>\n      <td>3</td>\n      <td>12.9900</td>\n      <td>101.0700</td>\n      <td>C</td>\n      <td>C2</td>\n      <td>54.0000</td>\n      <td>NaN</td>\n      <td>1</td>\n      <td>29000.0000</td>\n      <td>2</td>\n      <td>2016-03-01</td>\n      <td>0</td>\n      <td>10</td>\n      <td>301.0000</td>\n      <td>21</td>\n      <td>32.1600</td>\n      <td>0.0000</td>\n      <td>690.0000</td>\n      <td>694.0000</td>\n      <td>12.0000</td>\n      <td>0.0000</td>\n      <td>0.0000</td>\n      <td>2942.0000</td>\n      <td>32.0000</td>\n      <td>27.0000</td>\n      <td>0</td>\n      <td>0</td>\n      <td>Aug-1977</td>\n      <td>11.0000</td>\n      <td>1.0000</td>\n      <td>1.0000</td>\n      <td>2.0000</td>\n      <td>7.0000</td>\n      <td>7.0000</td>\n      <td>2.0000</td>\n      <td>4.0000</td>\n      <td>9.0000</td>\n      <td>10.0000</td>\n      <td>15.0000</td>\n      <td>7.0000</td>\n      <td>12.0000</td>\n      <td>0.0000</td>\n      <td>0.0000</td>\n      <td>0.0000</td>\n      <td>4.0000</td>\n    </tr>\n  </tbody>\n</table>\n</div>"
     },
     "metadata": {},
     "execution_count": 3
    }
   ],
   "source": [
    "train = pd.read_csv(f\"{data_path}/train.csv\")\n",
    "testA = pd.read_csv(f\"{data_path}/testA.csv\")\n",
    "logging.info(f\"train shape: {train.shape}\")\n",
    "logging.info(f\"testA shape: {testA.shape}\")\n",
    "train.head()"
   ]
  },
  {
   "source": [
    "### 特征预处理"
   ],
   "cell_type": "markdown",
   "metadata": {}
  },
  {
   "cell_type": "code",
   "execution_count": 4,
   "metadata": {},
   "outputs": [],
   "source": [
    "# grade 特征处理\n",
    "\n",
    "grade_dic = {\"A\":0, \"B\":1, \"C\":2, \"D\":3, \"E\":4, \"F\":5, \"G\":6}\n",
    "for data in [train, testA]:\n",
    "    data.grade = data.grade.map(grade_dic, na_action='ignore')  # 将grade改为数字，不出来NA值\n",
    "    data.grade.astype('category')"
   ]
  },
  {
   "cell_type": "code",
   "execution_count": 5,
   "metadata": {},
   "outputs": [],
   "source": [
    "# subGrade 特征处理\n",
    "\n",
    "subgrade_dic = {\"A1\":0,\"A2\":1,\"A3\":2,\"A4\":3,\"A5\":4,\"B1\":5,\"B2\":6,\"B3\":7,\"B4\":8,\"B5\":9,\"C1\":10,\"C2\":11,\"C3\":12,\"C4\":13,\"C5\":14,\"D1\":15,\"D2\":16,\"D3\":17,\"D4\":18,\"D5\":19,\"E1\":20,\"E2\":21,\"E3\":22,\"E4\":23,\"E5\":24,\"F1\":25,\"F2\":26,\"F3\":27,\"F4\":28,\"F5\":29,\"G1\":30,\"G2\":31,\"G3\":32,\"G4\":33,\"G5\":34}\n",
    "\n",
    "for data in [train, testA]:\n",
    "    data.subGrade = data.subGrade.map(subgrade_dic, na_action='ignore')\n",
    "    data.subGrade.astype('category')"
   ]
  },
  {
   "cell_type": "code",
   "execution_count": 6,
   "metadata": {},
   "outputs": [],
   "source": [
    "# employmentLength 特征处理\n",
    "\n",
    "emp_dic = {\"2 years\":2, \"5 years\":5, \"8 years\":8, \"10+ years\":10, \"7 years\":7,\"9 years\":9, \"1 year\":1, \"3 years\":3, \"< 1 year\":0, \"4 years\":4, \"6 years\":6}\n",
    "\n",
    "for data in [train, testA]:\n",
    "    data.employmentLength = data.employmentLength.map(emp_dic, na_action='ignore')\n",
    "    data.employmentLength.astype('category')"
   ]
  },
  {
   "cell_type": "code",
   "execution_count": 7,
   "metadata": {},
   "outputs": [
    {
     "output_type": "stream",
     "name": "stderr",
     "text": [
      "2021-01-26 08:56:36,954 INFO: NumExpr defaulting to 2 threads.\n"
     ]
    }
   ],
   "source": [
    "# 时间格式 issueDate + earliesCreditLine\n",
    "# issueDate 贷款发放的月份\n",
    "# earliesCreditLine 借款人最早报告的信用额度开立的月份\n",
    "\n",
    "for data in [train, testA]:\n",
    "    t1 = pd.to_datetime(data.issueDate)  # 2014-07-01\n",
    "    t2 = pd.to_datetime(data.earliesCreditLine)  # 2001-08-01\n",
    "    years_between_issueDate_and_earliesCreditLine = round(abs((t1-t2).apply(lambda x: x.days))/365, 0)\n",
    "    issueDate_to_now_days = t1.apply(lambda x: (datetime.now() - x).days)\n",
    "    earliesCreditLine_to_now_days = t2.apply(lambda x: (datetime.now() - x).days)\n",
    "    data['years_between_issueDate_and_earliesCreditLine'] = years_between_issueDate_and_earliesCreditLine\n",
    "    data['issueDate_to_now_days'] = issueDate_to_now_days\n",
    "    data['earliesCreditLine_to_now_days'] = earliesCreditLine_to_now_days"
   ]
  },
  {
   "cell_type": "code",
   "execution_count": 8,
   "metadata": {},
   "outputs": [],
   "source": [
    "# 特征构造 ficoRange = ficoRangeHigh - ficoRangeLow\n",
    "# ficoRangeLow 借款人在贷款发放时的fico所属的下限范围\n",
    "# ficoRangeHigh 借款人在贷款发放时的fico所属的上限范围\n",
    "\n",
    "for data in [train, testA]:\n",
    "    ficoRange = data.ficoRangeHigh - data.ficoRangeLow\n",
    "    data['ficoRange'] = ficoRange\n",
    "    data.ficoRange.astype('category')"
   ]
  },
  {
   "cell_type": "code",
   "execution_count": 9,
   "metadata": {},
   "outputs": [],
   "source": [
    "# 删除唯一值特征 policyCode\n",
    "\n",
    "for data in [train, testA]:\n",
    "    data = data.drop('policyCode', axis=1)"
   ]
  },
  {
   "cell_type": "code",
   "execution_count": 10,
   "metadata": {},
   "outputs": [],
   "source": [
    "# 债务收入比 dti 不可能为负\n",
    "for data in [train, testA]:\n",
    "    data.dti[data.dti<0] = 0"
   ]
  },
  {
   "cell_type": "code",
   "execution_count": 11,
   "metadata": {},
   "outputs": [],
   "source": [
    "# 业务变量构造\n",
    "\n",
    "for data in [train, testA]:\n",
    "    # 余额 = 信贷周转余额合计 + 借款人信用档案中当前的信用额度总数  = revolBal+totalAcc\n",
    "    revolBal_p_totalAcc = data.revolBal + data.totalAcc\n",
    "\n",
    "    # 信用已用额度 = 借款人信用档案中当前的信用额度总数 - 借款人信用档案中未结信用额度的数量 = totalAcc-openAcc\n",
    "    totalAcc_m_openAcc = data.totalAcc - data.openAcc\n",
    "\n",
    "    # 年还款 = 贷款金额 / 贷款期限（year） = loanAmnt/term \n",
    "    loanAmnt_term = data.loanAmnt / data.term\n",
    "\n",
    "    # 年收入/年还款\n",
    "    annualIncome_loanAmnt_term = data.annualIncome / loanAmnt_term\n",
    "\n",
    "    # 债务 = 债务收入比 * 年收入 = dti*annualIncome\n",
    "    debt = data.dti * data.annualIncome\n",
    "\n",
    "    # 利息 = 贷款利率 * 贷款期限（year） =  interestRate*term\n",
    "    pro = data.interestRate * data.term\n",
    "\n",
    "    # 分期付款金额 / 年收入\n",
    "    installment_annualIncome = data.installment / data.annualIncome\n",
    "\n",
    "    # 人均贷款金额 = 贷款总额 / 表明贷款是个人申请还是与两个共同借款人的联合申请\n",
    "    loanAmnt_applicationType = data.loanAmnt/(1+data.applicationType)\n",
    "\n",
    "    # --------- 赋值\n",
    "    data[\"revolBal_p_totalAcc\"] = revolBal_p_totalAcc\n",
    "    data[\"totalAcc_m_openAcc\"] = totalAcc_m_openAcc\n",
    "    data[\"loanAmnt_term\"] = loanAmnt_term\n",
    "    data[\"annualIncome_loanAmnt_term\"] = annualIncome_loanAmnt_term\n",
    "    data[\"debt\"] = debt\n",
    "    data[\"pro\"] = pro\n",
    "    data[\"installment_annualIncome\"] = installment_annualIncome\n",
    "    data[\"loanAmnt_applicationType\"] = loanAmnt_applicationType\n",
    "\n",
    "    eny_num = data.earliesCreditLine_to_now_days/(data.years_between_issueDate_and_earliesCreditLine)\n",
    "    int_sub = data.interestRate/data.subGrade\n",
    "    pro_dti = data.pro/data.dti\n",
    "    top1 = data.issueDate_to_now_days*data.ficoRangeHigh\n",
    "\n",
    "    data[\"eny_num\"] = eny_num\n",
    "    data[\"int_sub\"] = int_sub\n",
    "    data[\"pro_dti\"] = pro_dti\n",
    "    data[\"top1\"] = top1\n",
    "\n",
    "    # pubRec\t贬损公共记录的数量\n",
    "    # pubRecBankruptcies\t公开记录清除的数量\n",
    "\n",
    "    rec = data.pubRec - data.pubRecBankruptcies\n",
    "    rec_rate = data.pubRecBankruptcies/(1+data.pubRec)\n",
    "\n",
    "    data['rec'] = rec \n",
    "    data['rec_rate'] = rec_rate"
   ]
  },
  {
   "cell_type": "code",
   "execution_count": 12,
   "metadata": {},
   "outputs": [],
   "source": [
    "# 处理 N group\n",
    "n_feat = ['n0', 'n1', 'n2', 'n4', 'n5', 'n6', 'n7', 'n8', 'n9', 'n10', 'n11', 'n12', 'n13', 'n14', ]\n",
    "nameList = ['min', 'max', 'sum', 'mean', 'median', 'skew', 'std', 'mode', 'range', 'Q25','Q75']\n",
    "statList = ['min', 'max', 'sum', 'mean', 'median', 'skew', 'std', myMode, myRange, myQ25, myQ75]\n",
    "\n",
    "for data in [train, testA]:\n",
    "    for i in range(len(nameList)):\n",
    "\t    data['n_feat_{}'.format(nameList[i])] = data[n_feat].agg(statList[i], axis=1)"
   ]
  },
  {
   "source": [
    "### Log化处理数值特征"
   ],
   "cell_type": "markdown",
   "metadata": {}
  },
  {
   "cell_type": "code",
   "execution_count": 1,
   "metadata": {},
   "outputs": [],
   "source": [
    "# 拆分数字特征和离散特征列表\n",
    "def num_cat_cols(x, THRESH=50):\n",
    "    a = x.apply(lambda x: x.nunique())\n",
    "    num_cols = a[a >THRESH].index.tolist()\n",
    "    cat_cols = a[a <=THRESH].index.tolist()\n",
    "    return num_cols, cat_cols"
   ]
  },
  {
   "cell_type": "code",
   "execution_count": 2,
   "metadata": {},
   "outputs": [
    {
     "output_type": "error",
     "ename": "NameError",
     "evalue": "name 'total_data' is not defined",
     "traceback": [
      "\u001b[0;31m---------------------------------------------------------------------------\u001b[0m",
      "\u001b[0;31mNameError\u001b[0m                                 Traceback (most recent call last)",
      "\u001b[0;32m<ipython-input-2-92bfd5c06d37>\u001b[0m in \u001b[0;36m<module>\u001b[0;34m\u001b[0m\n\u001b[0;32m----> 1\u001b[0;31m \u001b[0mnum_cols\u001b[0m\u001b[0;34m,\u001b[0m \u001b[0mcat_cols\u001b[0m \u001b[0;34m=\u001b[0m \u001b[0mnum_cat_cols\u001b[0m\u001b[0;34m(\u001b[0m\u001b[0mtotal_data\u001b[0m\u001b[0;34m)\u001b[0m\u001b[0;34m\u001b[0m\u001b[0;34m\u001b[0m\u001b[0m\n\u001b[0m",
      "\u001b[0;31mNameError\u001b[0m: name 'total_data' is not defined"
     ]
    }
   ],
   "source": [
    "num_cols, cat_cols = num_cat_cols(train))"
   ]
  },
  {
   "cell_type": "code",
   "execution_count": null,
   "metadata": {},
   "outputs": [],
   "source": [
    "num_cols.remove('id')\n",
    "num_cols.remove('issueDate')\n",
    "num_cols.remove('earliesCreditLine')"
   ]
  },
  {
   "cell_type": "code",
   "execution_count": null,
   "metadata": {},
   "outputs": [],
   "source": [
    "# 对连续变量log化处理\n",
    "for data in [train, testA]:\n",
    "    for col in num_cols:\n",
    "        data[col] = data[col].apply(lambda x: math.log(np.float(x)+1)"
   ]
  },
  {
   "cell_type": "code",
   "execution_count": null,
   "metadata": {},
   "outputs": [],
   "source": [
    "train['sample'] = 'train'\n",
    "testA['sample'] = 'test'\n",
    "\n",
    "# 关联train + test 一起做特征处理\n",
    "data = pd.concat([train, testA], axis=0, ignore_index=True)\n",
    "data.to_csv(f\"data/data_for_model_v2.csv\", index=False)\n",
    "logging.info(f\"combine data shape: {data.shape}\")"
   ]
  },
  {
   "source": [
    "### More try..."
   ],
   "cell_type": "markdown",
   "metadata": {}
  },
  {
   "cell_type": "code",
   "execution_count": 14,
   "metadata": {},
   "outputs": [],
   "source": [
    "total_data = pd.concat([train.copy(), testA.copy()])\n",
    "total_data.head()"
   ]
  }
 ]
}