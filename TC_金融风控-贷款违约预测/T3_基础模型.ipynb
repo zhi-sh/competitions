{
 "metadata": {
  "language_info": {
   "codemirror_mode": {
    "name": "ipython",
    "version": 3
   },
   "file_extension": ".py",
   "mimetype": "text/x-python",
   "name": "python",
   "nbconvert_exporter": "python",
   "pygments_lexer": "ipython3",
   "version": "3.7.4-final"
  },
  "orig_nbformat": 2,
  "kernelspec": {
   "name": "python3",
   "display_name": "Python 3",
   "language": "python"
  }
 },
 "nbformat": 4,
 "nbformat_minor": 2,
 "cells": [
  {
   "source": [],
   "cell_type": "markdown",
   "metadata": {}
  },
  {
   "source": [
    "%reload_ext autoreload\n",
    "%autoreload 2\n",
    "%matplotlib inline\n",
    "\n",
    "import logging\n",
    "import warnings\n",
    "from pathlib import Path \n",
    "\n",
    "import pandas as pd \n",
    "import numpy as np \n",
    "import matplotlib.pyplot as plt \n",
    "import lightgbm as lgb \n",
    "import xgboost as xgb \n",
    "import catboost as cgb\n",
    "from sklearn import metrics\n",
    "from sklearn.model_selection import KFold\n",
    "from sklearn.model_selection import cross_val_score\n",
    "from sklearn.metrics import roc_auc_score\n",
    "from bayes_opt import BayesianOptimization\n",
    "\n",
    "from utils import reduce_mem_usage\n",
    "\n",
    "pd.options.display.max_columns = None\n",
    "pd.set_option('display.float_format', lambda x: '%.4f' % x)\n",
    "warnings.filterwarnings('ignore')\n",
    "logging.basicConfig(level=logging.INFO, format='%(asctime)-15s %(levelname)s: %(message)s')"
   ],
   "cell_type": "code",
   "metadata": {},
   "execution_count": 11,
   "outputs": []
  },
  {
   "source": [
    "### 加载数据"
   ],
   "cell_type": "markdown",
   "metadata": {}
  },
  {
   "cell_type": "code",
   "execution_count": 2,
   "metadata": {},
   "outputs": [
    {
     "output_type": "stream",
     "name": "stdout",
     "text": [
      "Memory usage of dataframe is 587.46 MB\n",
      "2021-01-25 21:19:39,769 INFO: data shape: (1000000, 77)\n",
      "Memory usage after optimization is: 167.87 MB\n",
      "Decreased by 71.4%\n"
     ]
    },
    {
     "output_type": "execute_result",
     "data": {
      "text/plain": [
       "   id   loanAmnt  term  interestRate  installment  grade  subGrade  \\\n",
       "0   0 35008.0000     5       19.5156     918.0000      4        21   \n",
       "1   1 18000.0000     5       18.4844     462.0000      3        16   \n",
       "2   2 12000.0000     5       16.9844     298.2500      3        17   \n",
       "3   3 11000.0000     3        7.2617     341.0000      0         3   \n",
       "4   4  3000.0000     3       12.9922     101.0625      2        11   \n",
       "\n",
       "   employmentTitle  employmentLength  homeOwnership  annualIncome  \\\n",
       "0         320.0000            2.0000              2   110000.0000   \n",
       "1      219843.0000            5.0000              0    46000.0000   \n",
       "2       31698.0000            8.0000              0    74000.0000   \n",
       "3       46854.0000           10.0000              1   118000.0000   \n",
       "4          54.0000               NaN              1    29000.0000   \n",
       "\n",
       "   verificationStatus   issueDate  isDefault  purpose  postCode  regionCode  \\\n",
       "0                   2  2014-07-01     1.0000        1  137.0000          32   \n",
       "1                   2  2012-08-01     0.0000        0  156.0000          18   \n",
       "2                   2  2015-10-01     0.0000        0  337.0000          14   \n",
       "3                   1  2015-08-01     0.0000        4  148.0000          11   \n",
       "4                   2  2016-03-01     0.0000       10  301.0000          21   \n",
       "\n",
       "      dti  delinquency_2years  ficoRangeLow  ficoRangeHigh  openAcc  pubRec  \\\n",
       "0 17.0469              0.0000      730.0000       734.0000   7.0000  0.0000   \n",
       "1 27.8281              0.0000      700.0000       704.0000  13.0000  0.0000   \n",
       "2 22.7656              0.0000      675.0000       679.0000  11.0000  0.0000   \n",
       "3 17.2031              0.0000      685.0000       689.0000   9.0000  0.0000   \n",
       "4 32.1562              0.0000      690.0000       694.0000  12.0000  0.0000   \n",
       "\n",
       "   pubRecBankruptcies   revolBal  revolUtil  totalAcc  initialListStatus  \\\n",
       "0              0.0000 24178.0000    48.9062   27.0000                  0   \n",
       "1              0.0000 15096.0000    38.9062   18.0000                  1   \n",
       "2              0.0000  4606.0000    51.8125   27.0000                  0   \n",
       "3              0.0000  9948.0000    52.5938   28.0000                  1   \n",
       "4              0.0000  2942.0000    32.0000   27.0000                  0   \n",
       "\n",
       "   applicationType earliesCreditLine     title  policyCode     n0     n1  \\\n",
       "0                0          Aug-2001    1.0000      1.0000 0.0000 2.0000   \n",
       "1                0          May-2002 1723.0000      1.0000    NaN    NaN   \n",
       "2                0          May-2006    0.0000      1.0000 0.0000 0.0000   \n",
       "3                0          May-1999    4.0000      1.0000 6.0000 4.0000   \n",
       "4                0          Aug-1977   11.0000      1.0000 1.0000 2.0000   \n",
       "\n",
       "      n2     n3      n4      n5      n6      n7      n8     n9     n10    n11  \\\n",
       "0 2.0000 2.0000  4.0000  9.0000  8.0000  4.0000 12.0000 2.0000  7.0000 0.0000   \n",
       "1    NaN    NaN 10.0000     NaN     NaN     NaN     NaN    NaN 13.0000    NaN   \n",
       "2 3.0000 3.0000  0.0000  0.0000 21.0000  4.0000  5.0000 3.0000 11.0000 0.0000   \n",
       "3 6.0000 6.0000  4.0000 16.0000  4.0000  7.0000 21.0000 6.0000  9.0000 0.0000   \n",
       "4 7.0000 7.0000  2.0000  4.0000  9.0000 10.0000 15.0000 7.0000 12.0000 0.0000   \n",
       "\n",
       "     n12    n13    n14  years_between_issueDate_and_earliesCreditLine  \\\n",
       "0 0.0000 0.0000 2.0000                                        13.0000   \n",
       "1    NaN    NaN    NaN                                        10.0000   \n",
       "2 0.0000 0.0000 4.0000                                         9.0000   \n",
       "3 0.0000 0.0000 1.0000                                        16.0000   \n",
       "4 0.0000 0.0000 4.0000                                        39.0000   \n",
       "\n",
       "   issueDate_to_now_days  earliesCreditLine_to_now_days  ficoRange  \\\n",
       "0                   2394                           7111     4.0000   \n",
       "1                   3093                           6838     4.0000   \n",
       "2                   1937                           5377     4.0000   \n",
       "3                   1998                           7934     4.0000   \n",
       "4                   1785                          15877     4.0000   \n",
       "\n",
       "   revolBal_p_totalAcc  totalAcc_m_openAcc  loanAmnt_term  \\\n",
       "0           24205.0000             20.0000      7000.0000   \n",
       "1           15114.0000              5.0000      3600.0000   \n",
       "2            4633.0000             16.0000      2400.0000   \n",
       "3            9976.0000             19.0000      3666.0000   \n",
       "4            2969.0000             15.0000      1000.0000   \n",
       "\n",
       "   annualIncome_loanAmnt_term         debt     pro  installment_annualIncome  \\\n",
       "0                     15.7109 1875500.0000 97.6250                    0.0083   \n",
       "1                     12.7812 1280180.0000 92.4375                    0.0100   \n",
       "2                     30.8281 1684980.0000 84.9375                    0.0040   \n",
       "3                     32.1875 2030780.0000 21.7812                    0.0029   \n",
       "4                     29.0000  932640.0000 38.9688                    0.0035   \n",
       "\n",
       "   loanAmnt_applicationType  eny_num  int_sub  pro_dti         top1    rec  \\\n",
       "0                35008.0000 547.0000   0.9295   5.7243 1757196.0000 0.0000   \n",
       "1                18000.0000 684.0000   1.1556   3.3220 2177472.0000 0.0000   \n",
       "2                12000.0000 597.5000   0.9994   3.7308 1315223.0000 0.0000   \n",
       "3                11000.0000 496.0000   2.4200   1.2655 1376622.0000 0.0000   \n",
       "4                 3000.0000 407.0000   1.1809   1.2118 1238790.0000 0.0000   \n",
       "\n",
       "   rec_rate  n_feat_min  n_feat_max  n_feat_sum  n_feat_mean  n_feat_median  \\\n",
       "0    0.0000      0.0000     12.0000     52.0000       3.7148         2.0000   \n",
       "1    0.0000     10.0000     13.0000     23.0000      11.5000        11.5000   \n",
       "2    0.0000      0.0000     21.0000     51.0000       3.6426         1.5000   \n",
       "3    0.0000      0.0000     21.0000     84.0000       6.0000         5.0000   \n",
       "4    0.0000      0.0000     15.0000     73.0000       5.2148         4.0000   \n",
       "\n",
       "   n_feat_skew  n_feat_std  n_feat_mode  n_feat_range  n_feat_Q25  n_feat_Q75  \\\n",
       "0       0.9512      3.8516       1.0000       12.0000      0.5000      6.2500   \n",
       "1          NaN      2.1211      11.5000        3.0000     10.7500     12.2500   \n",
       "2       2.3223      5.8906       0.0000       21.0000      0.0000      4.0000   \n",
       "3       1.4424      6.0781       3.3340       21.0000      1.7500      6.7500   \n",
       "4       0.6641      4.8711       0.0000       15.0000      1.2500      8.5000   \n",
       "\n",
       "  sample  \n",
       "0  train  \n",
       "1  train  \n",
       "2  train  \n",
       "3  train  \n",
       "4  train  "
      ],
      "text/html": "<div>\n<style scoped>\n    .dataframe tbody tr th:only-of-type {\n        vertical-align: middle;\n    }\n\n    .dataframe tbody tr th {\n        vertical-align: top;\n    }\n\n    .dataframe thead th {\n        text-align: right;\n    }\n</style>\n<table border=\"1\" class=\"dataframe\">\n  <thead>\n    <tr style=\"text-align: right;\">\n      <th></th>\n      <th>id</th>\n      <th>loanAmnt</th>\n      <th>term</th>\n      <th>interestRate</th>\n      <th>installment</th>\n      <th>grade</th>\n      <th>subGrade</th>\n      <th>employmentTitle</th>\n      <th>employmentLength</th>\n      <th>homeOwnership</th>\n      <th>annualIncome</th>\n      <th>verificationStatus</th>\n      <th>issueDate</th>\n      <th>isDefault</th>\n      <th>purpose</th>\n      <th>postCode</th>\n      <th>regionCode</th>\n      <th>dti</th>\n      <th>delinquency_2years</th>\n      <th>ficoRangeLow</th>\n      <th>ficoRangeHigh</th>\n      <th>openAcc</th>\n      <th>pubRec</th>\n      <th>pubRecBankruptcies</th>\n      <th>revolBal</th>\n      <th>revolUtil</th>\n      <th>totalAcc</th>\n      <th>initialListStatus</th>\n      <th>applicationType</th>\n      <th>earliesCreditLine</th>\n      <th>title</th>\n      <th>policyCode</th>\n      <th>n0</th>\n      <th>n1</th>\n      <th>n2</th>\n      <th>n3</th>\n      <th>n4</th>\n      <th>n5</th>\n      <th>n6</th>\n      <th>n7</th>\n      <th>n8</th>\n      <th>n9</th>\n      <th>n10</th>\n      <th>n11</th>\n      <th>n12</th>\n      <th>n13</th>\n      <th>n14</th>\n      <th>years_between_issueDate_and_earliesCreditLine</th>\n      <th>issueDate_to_now_days</th>\n      <th>earliesCreditLine_to_now_days</th>\n      <th>ficoRange</th>\n      <th>revolBal_p_totalAcc</th>\n      <th>totalAcc_m_openAcc</th>\n      <th>loanAmnt_term</th>\n      <th>annualIncome_loanAmnt_term</th>\n      <th>debt</th>\n      <th>pro</th>\n      <th>installment_annualIncome</th>\n      <th>loanAmnt_applicationType</th>\n      <th>eny_num</th>\n      <th>int_sub</th>\n      <th>pro_dti</th>\n      <th>top1</th>\n      <th>rec</th>\n      <th>rec_rate</th>\n      <th>n_feat_min</th>\n      <th>n_feat_max</th>\n      <th>n_feat_sum</th>\n      <th>n_feat_mean</th>\n      <th>n_feat_median</th>\n      <th>n_feat_skew</th>\n      <th>n_feat_std</th>\n      <th>n_feat_mode</th>\n      <th>n_feat_range</th>\n      <th>n_feat_Q25</th>\n      <th>n_feat_Q75</th>\n      <th>sample</th>\n    </tr>\n  </thead>\n  <tbody>\n    <tr>\n      <th>0</th>\n      <td>0</td>\n      <td>35008.0000</td>\n      <td>5</td>\n      <td>19.5156</td>\n      <td>918.0000</td>\n      <td>4</td>\n      <td>21</td>\n      <td>320.0000</td>\n      <td>2.0000</td>\n      <td>2</td>\n      <td>110000.0000</td>\n      <td>2</td>\n      <td>2014-07-01</td>\n      <td>1.0000</td>\n      <td>1</td>\n      <td>137.0000</td>\n      <td>32</td>\n      <td>17.0469</td>\n      <td>0.0000</td>\n      <td>730.0000</td>\n      <td>734.0000</td>\n      <td>7.0000</td>\n      <td>0.0000</td>\n      <td>0.0000</td>\n      <td>24178.0000</td>\n      <td>48.9062</td>\n      <td>27.0000</td>\n      <td>0</td>\n      <td>0</td>\n      <td>Aug-2001</td>\n      <td>1.0000</td>\n      <td>1.0000</td>\n      <td>0.0000</td>\n      <td>2.0000</td>\n      <td>2.0000</td>\n      <td>2.0000</td>\n      <td>4.0000</td>\n      <td>9.0000</td>\n      <td>8.0000</td>\n      <td>4.0000</td>\n      <td>12.0000</td>\n      <td>2.0000</td>\n      <td>7.0000</td>\n      <td>0.0000</td>\n      <td>0.0000</td>\n      <td>0.0000</td>\n      <td>2.0000</td>\n      <td>13.0000</td>\n      <td>2394</td>\n      <td>7111</td>\n      <td>4.0000</td>\n      <td>24205.0000</td>\n      <td>20.0000</td>\n      <td>7000.0000</td>\n      <td>15.7109</td>\n      <td>1875500.0000</td>\n      <td>97.6250</td>\n      <td>0.0083</td>\n      <td>35008.0000</td>\n      <td>547.0000</td>\n      <td>0.9295</td>\n      <td>5.7243</td>\n      <td>1757196.0000</td>\n      <td>0.0000</td>\n      <td>0.0000</td>\n      <td>0.0000</td>\n      <td>12.0000</td>\n      <td>52.0000</td>\n      <td>3.7148</td>\n      <td>2.0000</td>\n      <td>0.9512</td>\n      <td>3.8516</td>\n      <td>1.0000</td>\n      <td>12.0000</td>\n      <td>0.5000</td>\n      <td>6.2500</td>\n      <td>train</td>\n    </tr>\n    <tr>\n      <th>1</th>\n      <td>1</td>\n      <td>18000.0000</td>\n      <td>5</td>\n      <td>18.4844</td>\n      <td>462.0000</td>\n      <td>3</td>\n      <td>16</td>\n      <td>219843.0000</td>\n      <td>5.0000</td>\n      <td>0</td>\n      <td>46000.0000</td>\n      <td>2</td>\n      <td>2012-08-01</td>\n      <td>0.0000</td>\n      <td>0</td>\n      <td>156.0000</td>\n      <td>18</td>\n      <td>27.8281</td>\n      <td>0.0000</td>\n      <td>700.0000</td>\n      <td>704.0000</td>\n      <td>13.0000</td>\n      <td>0.0000</td>\n      <td>0.0000</td>\n      <td>15096.0000</td>\n      <td>38.9062</td>\n      <td>18.0000</td>\n      <td>1</td>\n      <td>0</td>\n      <td>May-2002</td>\n      <td>1723.0000</td>\n      <td>1.0000</td>\n      <td>NaN</td>\n      <td>NaN</td>\n      <td>NaN</td>\n      <td>NaN</td>\n      <td>10.0000</td>\n      <td>NaN</td>\n      <td>NaN</td>\n      <td>NaN</td>\n      <td>NaN</td>\n      <td>NaN</td>\n      <td>13.0000</td>\n      <td>NaN</td>\n      <td>NaN</td>\n      <td>NaN</td>\n      <td>NaN</td>\n      <td>10.0000</td>\n      <td>3093</td>\n      <td>6838</td>\n      <td>4.0000</td>\n      <td>15114.0000</td>\n      <td>5.0000</td>\n      <td>3600.0000</td>\n      <td>12.7812</td>\n      <td>1280180.0000</td>\n      <td>92.4375</td>\n      <td>0.0100</td>\n      <td>18000.0000</td>\n      <td>684.0000</td>\n      <td>1.1556</td>\n      <td>3.3220</td>\n      <td>2177472.0000</td>\n      <td>0.0000</td>\n      <td>0.0000</td>\n      <td>10.0000</td>\n      <td>13.0000</td>\n      <td>23.0000</td>\n      <td>11.5000</td>\n      <td>11.5000</td>\n      <td>NaN</td>\n      <td>2.1211</td>\n      <td>11.5000</td>\n      <td>3.0000</td>\n      <td>10.7500</td>\n      <td>12.2500</td>\n      <td>train</td>\n    </tr>\n    <tr>\n      <th>2</th>\n      <td>2</td>\n      <td>12000.0000</td>\n      <td>5</td>\n      <td>16.9844</td>\n      <td>298.2500</td>\n      <td>3</td>\n      <td>17</td>\n      <td>31698.0000</td>\n      <td>8.0000</td>\n      <td>0</td>\n      <td>74000.0000</td>\n      <td>2</td>\n      <td>2015-10-01</td>\n      <td>0.0000</td>\n      <td>0</td>\n      <td>337.0000</td>\n      <td>14</td>\n      <td>22.7656</td>\n      <td>0.0000</td>\n      <td>675.0000</td>\n      <td>679.0000</td>\n      <td>11.0000</td>\n      <td>0.0000</td>\n      <td>0.0000</td>\n      <td>4606.0000</td>\n      <td>51.8125</td>\n      <td>27.0000</td>\n      <td>0</td>\n      <td>0</td>\n      <td>May-2006</td>\n      <td>0.0000</td>\n      <td>1.0000</td>\n      <td>0.0000</td>\n      <td>0.0000</td>\n      <td>3.0000</td>\n      <td>3.0000</td>\n      <td>0.0000</td>\n      <td>0.0000</td>\n      <td>21.0000</td>\n      <td>4.0000</td>\n      <td>5.0000</td>\n      <td>3.0000</td>\n      <td>11.0000</td>\n      <td>0.0000</td>\n      <td>0.0000</td>\n      <td>0.0000</td>\n      <td>4.0000</td>\n      <td>9.0000</td>\n      <td>1937</td>\n      <td>5377</td>\n      <td>4.0000</td>\n      <td>4633.0000</td>\n      <td>16.0000</td>\n      <td>2400.0000</td>\n      <td>30.8281</td>\n      <td>1684980.0000</td>\n      <td>84.9375</td>\n      <td>0.0040</td>\n      <td>12000.0000</td>\n      <td>597.5000</td>\n      <td>0.9994</td>\n      <td>3.7308</td>\n      <td>1315223.0000</td>\n      <td>0.0000</td>\n      <td>0.0000</td>\n      <td>0.0000</td>\n      <td>21.0000</td>\n      <td>51.0000</td>\n      <td>3.6426</td>\n      <td>1.5000</td>\n      <td>2.3223</td>\n      <td>5.8906</td>\n      <td>0.0000</td>\n      <td>21.0000</td>\n      <td>0.0000</td>\n      <td>4.0000</td>\n      <td>train</td>\n    </tr>\n    <tr>\n      <th>3</th>\n      <td>3</td>\n      <td>11000.0000</td>\n      <td>3</td>\n      <td>7.2617</td>\n      <td>341.0000</td>\n      <td>0</td>\n      <td>3</td>\n      <td>46854.0000</td>\n      <td>10.0000</td>\n      <td>1</td>\n      <td>118000.0000</td>\n      <td>1</td>\n      <td>2015-08-01</td>\n      <td>0.0000</td>\n      <td>4</td>\n      <td>148.0000</td>\n      <td>11</td>\n      <td>17.2031</td>\n      <td>0.0000</td>\n      <td>685.0000</td>\n      <td>689.0000</td>\n      <td>9.0000</td>\n      <td>0.0000</td>\n      <td>0.0000</td>\n      <td>9948.0000</td>\n      <td>52.5938</td>\n      <td>28.0000</td>\n      <td>1</td>\n      <td>0</td>\n      <td>May-1999</td>\n      <td>4.0000</td>\n      <td>1.0000</td>\n      <td>6.0000</td>\n      <td>4.0000</td>\n      <td>6.0000</td>\n      <td>6.0000</td>\n      <td>4.0000</td>\n      <td>16.0000</td>\n      <td>4.0000</td>\n      <td>7.0000</td>\n      <td>21.0000</td>\n      <td>6.0000</td>\n      <td>9.0000</td>\n      <td>0.0000</td>\n      <td>0.0000</td>\n      <td>0.0000</td>\n      <td>1.0000</td>\n      <td>16.0000</td>\n      <td>1998</td>\n      <td>7934</td>\n      <td>4.0000</td>\n      <td>9976.0000</td>\n      <td>19.0000</td>\n      <td>3666.0000</td>\n      <td>32.1875</td>\n      <td>2030780.0000</td>\n      <td>21.7812</td>\n      <td>0.0029</td>\n      <td>11000.0000</td>\n      <td>496.0000</td>\n      <td>2.4200</td>\n      <td>1.2655</td>\n      <td>1376622.0000</td>\n      <td>0.0000</td>\n      <td>0.0000</td>\n      <td>0.0000</td>\n      <td>21.0000</td>\n      <td>84.0000</td>\n      <td>6.0000</td>\n      <td>5.0000</td>\n      <td>1.4424</td>\n      <td>6.0781</td>\n      <td>3.3340</td>\n      <td>21.0000</td>\n      <td>1.7500</td>\n      <td>6.7500</td>\n      <td>train</td>\n    </tr>\n    <tr>\n      <th>4</th>\n      <td>4</td>\n      <td>3000.0000</td>\n      <td>3</td>\n      <td>12.9922</td>\n      <td>101.0625</td>\n      <td>2</td>\n      <td>11</td>\n      <td>54.0000</td>\n      <td>NaN</td>\n      <td>1</td>\n      <td>29000.0000</td>\n      <td>2</td>\n      <td>2016-03-01</td>\n      <td>0.0000</td>\n      <td>10</td>\n      <td>301.0000</td>\n      <td>21</td>\n      <td>32.1562</td>\n      <td>0.0000</td>\n      <td>690.0000</td>\n      <td>694.0000</td>\n      <td>12.0000</td>\n      <td>0.0000</td>\n      <td>0.0000</td>\n      <td>2942.0000</td>\n      <td>32.0000</td>\n      <td>27.0000</td>\n      <td>0</td>\n      <td>0</td>\n      <td>Aug-1977</td>\n      <td>11.0000</td>\n      <td>1.0000</td>\n      <td>1.0000</td>\n      <td>2.0000</td>\n      <td>7.0000</td>\n      <td>7.0000</td>\n      <td>2.0000</td>\n      <td>4.0000</td>\n      <td>9.0000</td>\n      <td>10.0000</td>\n      <td>15.0000</td>\n      <td>7.0000</td>\n      <td>12.0000</td>\n      <td>0.0000</td>\n      <td>0.0000</td>\n      <td>0.0000</td>\n      <td>4.0000</td>\n      <td>39.0000</td>\n      <td>1785</td>\n      <td>15877</td>\n      <td>4.0000</td>\n      <td>2969.0000</td>\n      <td>15.0000</td>\n      <td>1000.0000</td>\n      <td>29.0000</td>\n      <td>932640.0000</td>\n      <td>38.9688</td>\n      <td>0.0035</td>\n      <td>3000.0000</td>\n      <td>407.0000</td>\n      <td>1.1809</td>\n      <td>1.2118</td>\n      <td>1238790.0000</td>\n      <td>0.0000</td>\n      <td>0.0000</td>\n      <td>0.0000</td>\n      <td>15.0000</td>\n      <td>73.0000</td>\n      <td>5.2148</td>\n      <td>4.0000</td>\n      <td>0.6641</td>\n      <td>4.8711</td>\n      <td>0.0000</td>\n      <td>15.0000</td>\n      <td>1.2500</td>\n      <td>8.5000</td>\n      <td>train</td>\n    </tr>\n  </tbody>\n</table>\n</div>"
     },
     "metadata": {},
     "execution_count": 2
    }
   ],
   "source": [
    "data = pd.read_csv('data/data_for_model_v1.csv')\n",
    "data = reduce_mem_usage(data) \n",
    "logging.info(f'data shape: {data.shape}')\n",
    "data.head()"
   ]
  },
  {
   "cell_type": "code",
   "execution_count": 6,
   "metadata": {},
   "outputs": [
    {
     "output_type": "stream",
     "name": "stderr",
     "text": [
      "2021-01-25 21:43:54,816 INFO: X_train: (800000, 72), X_test: (200000, 72), y_train: (800000,)\n"
     ]
    }
   ],
   "source": [
    "dropping_cols = ['id', 'issueDate', 'isDefault', 'earliesCreditLine', 'sample']\n",
    "\n",
    "X_train = data.loc[data['sample'] == 'train', :].drop(dropping_cols, axis=1)\n",
    "X_test = data.loc[data['sample'] == 'test', :].drop(dropping_cols, axis=1)\n",
    "y_train = data.loc[data['sample'] == 'train', 'isDefault']\n",
    "\n",
    "logging.info(f'X_train: {X_train.shape}, X_test: {X_test.shape}, y_train: {y_train.shape}')"
   ]
  },
  {
   "source": [
    "### LGB"
   ],
   "cell_type": "markdown",
   "metadata": {
    "tags": []
   }
  },
  {
   "cell_type": "code",
   "execution_count": 17,
   "metadata": {},
   "outputs": [],
   "source": [
    "def lgb_model(params, X_train, y_train, X_test, y_test=None, folds=5, SEED=2021):\n",
    "    params['seed'] = SEED\n",
    "    kf = KFold(n_splits=folds, shuffle=True, random_state=SEED)\n",
    "    \n",
    "    cv_scores = []\n",
    "    test_preds = None\n",
    "    for i, (trn_index, val_index) in enumerate(kf.split(X_train, y_train)):\n",
    "        trn_x, trn_y, val_x, val_y = X_train.iloc[trn_index], y_train[trn_index], X_train.iloc[val_index],y_train[val_index]\n",
    "        train_matrix = lgb.Dataset(trn_x, label=trn_y)\n",
    "        valid_matrix = lgb.Dataset(val_x, label=val_y)\n",
    "        model = lgb.train(params, train_matrix, 20000, valid_sets=[train_matrix, valid_matrix], verbose_eval=500, early_stopping_rounds=500)\n",
    "        val_pred = model.predict(val_x, num_iteration=model.best_iteration)\n",
    "        test_pred = model.predict(X_test, num_iteration=model.best_iteration)\n",
    "\n",
    "        if test_preds is None:\n",
    "            test_preds = test_pred / kf.n_splits\n",
    "        else:\n",
    "            test_preds += test_pred / kf.n_splits\n",
    "        fpr, tpr, threshold = metrics.roc_curve(val_y, val_pred)\n",
    "        roc_auc = metrics.auc(fpr, tpr)\n",
    "        cv_scores.append(roc_auc)\n",
    "        print(f\"{i} fold's ROC_AUC: {roc_auc}\")\n",
    "\n",
    "    print(f\"cv scotrainre list: {cv_scores}\")\n",
    "    print(f\"cv score mean: {np.mean(cv_scores)}\")\n",
    "    print(f\"cv score std: {np.std(cv_scores)}\")\n",
    "    return test_preds"
   ]
  },
  {
   "cell_type": "code",
   "execution_count": 18,
   "metadata": {},
   "outputs": [
    {
     "output_type": "stream",
     "name": "stdout",
     "text": [
      "Training until validation scores don't improve for 500 rounds\n",
      "[500]\ttraining's auc: 0.7395\tvalid_1's auc: 0.734714\n",
      "[1000]\ttraining's auc: 0.746101\tvalid_1's auc: 0.736785\n",
      "[1500]\ttraining's auc: 0.751046\tvalid_1's auc: 0.737584\n",
      "[2000]\ttraining's auc: 0.755128\tvalid_1's auc: 0.737961\n",
      "[2500]\ttraining's auc: 0.758688\tvalid_1's auc: 0.738056\n",
      "[3000]\ttraining's auc: 0.761992\tvalid_1's auc: 0.737946\n",
      "Early stopping, best iteration is:\n",
      "[2702]\ttraining's auc: 0.760058\tvalid_1's auc: 0.738057\n",
      "0 fold's ROC_AUC: 0.7380566705417793\n",
      "Training until validation scores don't improve for 500 rounds\n",
      "[500]\ttraining's auc: 0.739464\tvalid_1's auc: 0.734377\n",
      "[1000]\ttraining's auc: 0.746146\tvalid_1's auc: 0.736726\n",
      "[1500]\ttraining's auc: 0.751023\tvalid_1's auc: 0.737852\n",
      "[2000]\ttraining's auc: 0.755101\tvalid_1's auc: 0.738203\n",
      "[2500]\ttraining's auc: 0.758649\tvalid_1's auc: 0.738313\n",
      "[3000]\ttraining's auc: 0.761912\tvalid_1's auc: 0.738369\n",
      "Early stopping, best iteration is:\n",
      "[2975]\ttraining's auc: 0.761756\tvalid_1's auc: 0.738389\n",
      "1 fold's ROC_AUC: 0.7383887953527434\n",
      "Training until validation scores don't improve for 500 rounds\n",
      "[500]\ttraining's auc: 0.739568\tvalid_1's auc: 0.733028\n",
      "[1000]\ttraining's auc: 0.746207\tvalid_1's auc: 0.735683\n",
      "[1500]\ttraining's auc: 0.751025\tvalid_1's auc: 0.73678\n",
      "[2000]\ttraining's auc: 0.755062\tvalid_1's auc: 0.737188\n",
      "[2500]\ttraining's auc: 0.758645\tvalid_1's auc: 0.737427\n",
      "[3000]\ttraining's auc: 0.761908\tvalid_1's auc: 0.73746\n",
      "Early stopping, best iteration is:\n",
      "[2983]\ttraining's auc: 0.761791\tvalid_1's auc: 0.737488\n",
      "2 fold's ROC_AUC: 0.7374883352511477\n",
      "Training until validation scores don't improve for 500 rounds\n",
      "[500]\ttraining's auc: 0.739681\tvalid_1's auc: 0.73376\n",
      "[1000]\ttraining's auc: 0.746479\tvalid_1's auc: 0.736015\n",
      "[1500]\ttraining's auc: 0.751361\tvalid_1's auc: 0.736919\n",
      "[2000]\ttraining's auc: 0.755445\tvalid_1's auc: 0.737364\n",
      "[2500]\ttraining's auc: 0.758933\tvalid_1's auc: 0.737476\n",
      "Early stopping, best iteration is:\n",
      "[2490]\ttraining's auc: 0.758871\tvalid_1's auc: 0.737503\n",
      "3 fold's ROC_AUC: 0.7375031256259814\n",
      "Training until validation scores don't improve for 500 rounds\n",
      "[500]\ttraining's auc: 0.739937\tvalid_1's auc: 0.733387\n",
      "[1000]\ttraining's auc: 0.746481\tvalid_1's auc: 0.735579\n",
      "[1500]\ttraining's auc: 0.751296\tvalid_1's auc: 0.736378\n",
      "[2000]\ttraining's auc: 0.755382\tvalid_1's auc: 0.736693\n",
      "[2500]\ttraining's auc: 0.758922\tvalid_1's auc: 0.736804\n",
      "Early stopping, best iteration is:\n",
      "[2437]\ttraining's auc: 0.758513\tvalid_1's auc: 0.736841\n",
      "4 fold's ROC_AUC: 0.7368407041296778\n",
      "cv scotrainre list: [0.7380566705417793, 0.7383887953527434, 0.7374883352511477, 0.7375031256259814, 0.7368407041296778]\n",
      "cv score mean: 0.737655526180266\n",
      "cv score std: 0.0005317356839502009\n"
     ]
    }
   ],
   "source": [
    "params = {\n",
    "        'boosting_type': 'gbdt',\n",
    "        'objective': 'binary',\n",
    "        'metric': 'auc',\n",
    "        'learning_rate': 0.1,\n",
    "        'n_jobs':-1,\n",
    "        'verbose': -1,\n",
    "\n",
    "        # 参数\n",
    "        'bagging_fraction': 0.91,\n",
    "        'bagging_freq': 1,\n",
    "        'feature_fraction': 0.85,\n",
    "        'max_depth': 3,\n",
    "        'min_child_weight': 8.37,\n",
    "        'min_data_in_leaf': 131,\n",
    "        'min_split_gain': 0.13,\n",
    "        'num_leaves': 12,\n",
    "        'reg_alpha': 9.7,\n",
    "        'reg_lambda': 2.02,\n",
    "    }\n",
    "\n",
    "test_preds = lgb_model(params, X_train, y_train, X_test)"
   ]
  },
  {
   "cell_type": "code",
   "execution_count": 19,
   "metadata": {},
   "outputs": [
    {
     "output_type": "execute_result",
     "data": {
      "text/plain": [
       "array([0.07035907, 0.31636555, 0.64085246, ..., 0.17638334, 0.27219689,\n",
       "       0.02195831])"
      ]
     },
     "metadata": {},
     "execution_count": 19
    }
   ],
   "source": [
    "test_preds"
   ]
  },
  {
   "source": [
    "### 生成提交文件"
   ],
   "cell_type": "markdown",
   "metadata": {}
  },
  {
   "cell_type": "code",
   "execution_count": 20,
   "metadata": {},
   "outputs": [
    {
     "output_type": "execute_result",
     "data": {
      "text/plain": [
       "       id  isDefault\n",
       "0  800000     0.0704\n",
       "1  800001     0.3164\n",
       "2  800002     0.6409\n",
       "3  800003     0.3067\n",
       "4  800004     0.3946\n",
       "5  800005     0.0203\n",
       "6  800006     0.3276\n",
       "7  800007     0.0364\n",
       "8  800008     0.6521\n",
       "9  800009     0.0336"
      ],
      "text/html": "<div>\n<style scoped>\n    .dataframe tbody tr th:only-of-type {\n        vertical-align: middle;\n    }\n\n    .dataframe tbody tr th {\n        vertical-align: top;\n    }\n\n    .dataframe thead th {\n        text-align: right;\n    }\n</style>\n<table border=\"1\" class=\"dataframe\">\n  <thead>\n    <tr style=\"text-align: right;\">\n      <th></th>\n      <th>id</th>\n      <th>isDefault</th>\n    </tr>\n  </thead>\n  <tbody>\n    <tr>\n      <th>0</th>\n      <td>800000</td>\n      <td>0.0704</td>\n    </tr>\n    <tr>\n      <th>1</th>\n      <td>800001</td>\n      <td>0.3164</td>\n    </tr>\n    <tr>\n      <th>2</th>\n      <td>800002</td>\n      <td>0.6409</td>\n    </tr>\n    <tr>\n      <th>3</th>\n      <td>800003</td>\n      <td>0.3067</td>\n    </tr>\n    <tr>\n      <th>4</th>\n      <td>800004</td>\n      <td>0.3946</td>\n    </tr>\n    <tr>\n      <th>5</th>\n      <td>800005</td>\n      <td>0.0203</td>\n    </tr>\n    <tr>\n      <th>6</th>\n      <td>800006</td>\n      <td>0.3276</td>\n    </tr>\n    <tr>\n      <th>7</th>\n      <td>800007</td>\n      <td>0.0364</td>\n    </tr>\n    <tr>\n      <th>8</th>\n      <td>800008</td>\n      <td>0.6521</td>\n    </tr>\n    <tr>\n      <th>9</th>\n      <td>800009</td>\n      <td>0.0336</td>\n    </tr>\n  </tbody>\n</table>\n</div>"
     },
     "metadata": {},
     "execution_count": 20
    }
   ],
   "source": [
    "# 生成提交格式的DataFrame\n",
    "df_result = pd.DataFrame({'id': data.loc[data['sample'] == 'test', 'id'].values, 'isDefault': test_preds})\n",
    "df_result.to_csv('data/tc/pred_lgb.csv', index=False)\n",
    "df_result.sort_values(by='id').head(10)"
   ]
  },
  {
   "cell_type": "code",
   "execution_count": null,
   "metadata": {},
   "outputs": [],
   "source": []
  }
 ]
}