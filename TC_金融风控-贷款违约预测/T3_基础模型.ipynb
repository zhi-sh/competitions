{
 "metadata": {
  "language_info": {
   "codemirror_mode": {
    "name": "ipython",
    "version": 3
   },
   "file_extension": ".py",
   "mimetype": "text/x-python",
   "name": "python",
   "nbconvert_exporter": "python",
   "pygments_lexer": "ipython3",
   "version": "3.7.4-final"
  },
  "orig_nbformat": 2,
  "kernelspec": {
   "name": "python3",
   "display_name": "Python 3",
   "language": "python"
  }
 },
 "nbformat": 4,
 "nbformat_minor": 2,
 "cells": [
  {
   "source": [],
   "cell_type": "markdown",
   "metadata": {}
  },
  {
   "source": [
    "%reload_ext autoreload\n",
    "%autoreload 2\n",
    "%matplotlib inline\n",
    "\n",
    "import logging\n",
    "import warnings\n",
    "from pathlib import Path \n",
    "\n",
    "import pandas as pd \n",
    "import numpy as np \n",
    "import matplotlib.pyplot as plt \n",
    "import lightgbm as lgb \n",
    "import xgboost as xgb \n",
    "import catboost as cgb\n",
    "from sklearn import metrics\n",
    "from sklearn.model_selection import KFold\n",
    "from sklearn.model_selection import cross_val_score\n",
    "from sklearn.metrics import roc_auc_score\n",
    "from bayes_opt import BayesianOptimization\n",
    "\n",
    "pd.options.display.max_columns = None\n",
    "pd.set_option('display.float_format', lambda x: '%.4f' % x)\n",
    "warnings.filterwarnings('ignore')\n",
    "logging.basicConfig(level=logging.INFO, format='%(asctime)-15s %(levelname)s: %(message)s')"
   ],
   "cell_type": "code",
   "metadata": {},
   "execution_count": 2,
   "outputs": []
  },
  {
   "source": [
    "### 加载数据"
   ],
   "cell_type": "markdown",
   "metadata": {}
  },
  {
   "cell_type": "code",
   "execution_count": 4,
   "metadata": {},
   "outputs": [
    {
     "output_type": "stream",
     "name": "stderr",
     "text": [
      "2021-01-26 10:25:21,268 INFO: data shape: (1000000, 77)\n"
     ]
    },
    {
     "output_type": "execute_result",
     "data": {
      "text/plain": [
       "   id  loanAmnt  term  interestRate  installment  grade  subGrade  \\\n",
       "0   0   10.4609     5        3.0215       6.8242      4        21   \n",
       "1   1    9.7969     5        2.9707       6.1367      3        16   \n",
       "2   2    9.3906     5        2.8906       5.6992      3        17   \n",
       "3   3    9.3047     3        2.1113       5.8359      0         3   \n",
       "4   4    8.0078     3        2.6387       4.6250      2        11   \n",
       "\n",
       "   employmentTitle  employmentLength  homeOwnership  annualIncome  \\\n",
       "0           5.7695            2.0000              2       11.6094   \n",
       "1          12.2969            5.0000              0       10.7344   \n",
       "2          10.3672            8.0000              0       11.2109   \n",
       "3          10.7578           10.0000              1       11.6797   \n",
       "4           4.0078               nan              1       10.2734   \n",
       "\n",
       "   verificationStatus   issueDate  isDefault  purpose  postCode  regionCode  \\\n",
       "0                   2  2014-07-01     1.0000        1    4.9258      3.4961   \n",
       "1                   2  2012-08-01     0.0000        0    5.0547      2.9453   \n",
       "2                   2  2015-10-01     0.0000        0    5.8242      2.7090   \n",
       "3                   1  2015-08-01     0.0000        4    5.0039      2.4844   \n",
       "4                   2  2016-03-01     0.0000       10    5.7109      3.0918   \n",
       "\n",
       "     dti  delinquency_2years  ficoRangeLow  ficoRangeHigh  openAcc  pubRec  \\\n",
       "0 2.8926              0.0000      730.0000       734.0000   2.0801  0.0000   \n",
       "1 3.3613              0.0000      700.0000       704.0000   2.6387  0.0000   \n",
       "2 3.1680              0.0000      675.0000       679.0000   2.4844  0.0000   \n",
       "3 2.9023              0.0000      685.0000       689.0000   2.3027  0.0000   \n",
       "4 3.5020              0.0000      690.0000       694.0000   2.5645  0.0000   \n",
       "\n",
       "   pubRecBankruptcies  revolBal  revolUtil  totalAcc  initialListStatus  \\\n",
       "0              0.0000   10.0938     3.9102    3.3320                  0   \n",
       "1              0.0000    9.6250     3.6855    2.9453                  1   \n",
       "2              0.0000    8.4375     3.9668    3.3320                  0   \n",
       "3              0.0000    9.2031     3.9824    3.3672                  1   \n",
       "4              0.0000    7.9883     3.4961    3.3320                  0   \n",
       "\n",
       "   applicationType earliesCreditLine  title  policyCode     n0     n1     n2  \\\n",
       "0                0          Aug-2001 0.6934      1.0000 0.0000 2.0000 2.0000   \n",
       "1                0          May-2002 7.4531      1.0000    nan    nan    nan   \n",
       "2                0          May-2006 0.0000      1.0000 0.0000 0.0000 3.0000   \n",
       "3                0          May-1999 1.6094      1.0000 6.0000 4.0000 6.0000   \n",
       "4                0          Aug-1977 2.4844      1.0000 1.0000 2.0000 7.0000   \n",
       "\n",
       "      n3      n4     n5     n6     n7     n8     n9    n10    n11    n12  \\\n",
       "0 2.0000  4.0000 2.3027 2.1973 1.6094 2.5645 2.0000 2.0801 0.0000 0.0000   \n",
       "1    nan 10.0000    nan    nan    nan    nan    nan 2.6387    nan    nan   \n",
       "2 3.0000  0.0000 0.0000 3.0918 1.6094 1.7920 3.0000 2.4844 0.0000 0.0000   \n",
       "3 6.0000  4.0000 2.8340 1.6094 2.0801 3.0918 6.0000 2.3027 0.0000 0.0000   \n",
       "4 7.0000  2.0000 1.6094 2.3027 2.3984 2.7734 7.0000 2.5645 0.0000 0.0000   \n",
       "\n",
       "     n13    n14  years_between_issueDate_and_earliesCreditLine  \\\n",
       "0 0.0000 2.0000                                         2.6387   \n",
       "1    nan    nan                                         2.3984   \n",
       "2 0.0000 4.0000                                         2.3027   \n",
       "3 0.0000 1.0000                                         2.8340   \n",
       "4 0.0000 4.0000                                         3.6895   \n",
       "\n",
       "   issueDate_to_now_days  earliesCreditLine_to_now_days  ficoRange  \\\n",
       "0                 7.7852                         8.8672     4.0000   \n",
       "1                 8.0391                         8.8281     4.0000   \n",
       "2                 7.5742                         8.5938     4.0000   \n",
       "3                 7.6055                         8.9766     4.0000   \n",
       "4                 7.4922                         9.6719     4.0000   \n",
       "\n",
       "   revolBal_p_totalAcc  totalAcc_m_openAcc  loanAmnt_term  \\\n",
       "0              10.0938              3.0449         8.8516   \n",
       "1               9.6250              1.7920         8.1875   \n",
       "2               8.4375              2.8340         7.7852   \n",
       "3               9.2109              2.9961         8.2109   \n",
       "4               7.9961              2.7734         6.9102   \n",
       "\n",
       "   annualIncome_loanAmnt_term    debt    pro  installment_annualIncome  \\\n",
       "0                      2.8164 14.4453 4.5898                    0.0083   \n",
       "1                      2.6230 14.0625 4.5391                    0.0100   \n",
       "2                      3.4609 14.3359 4.4531                    0.0040   \n",
       "3                      3.5020 14.5234 3.1250                    0.0029   \n",
       "4                      3.4004 13.7422 3.6875                    0.0035   \n",
       "\n",
       "   loanAmnt_applicationType  eny_num  int_sub  pro_dti    top1    rec  \\\n",
       "0                   10.4609   6.3086   0.6573   1.9057 14.3828 0.0000   \n",
       "1                    9.7969   6.5312   0.7681   1.4637 14.5938 0.0000   \n",
       "2                    9.3906   6.3945   0.6929   1.5541 14.0938 0.0000   \n",
       "3                    9.3047   6.2109   1.2296   0.8178 14.1406 0.0000   \n",
       "4                    8.0078   6.0117   0.7797   0.7938 14.0312 0.0000   \n",
       "\n",
       "   rec_rate  n_feat_min  n_feat_max  n_feat_sum  n_feat_mean  n_feat_median  \\\n",
       "0    0.0000      0.0000     12.0000     52.0000       3.7148         2.0000   \n",
       "1    0.0000     10.0000     13.0000     23.0000      11.5000        11.5000   \n",
       "2    0.0000      0.0000     21.0000     51.0000       3.6426         1.5000   \n",
       "3    0.0000      0.0000     21.0000     84.0000       6.0000         5.0000   \n",
       "4    0.0000      0.0000     15.0000     73.0000       5.2148         4.0000   \n",
       "\n",
       "   n_feat_skew  n_feat_std  n_feat_mode  n_feat_range  n_feat_Q25  n_feat_Q75  \\\n",
       "0       0.9512      3.8516       1.0000       12.0000      0.5000      6.2500   \n",
       "1          nan      2.1211      11.5000        3.0000     10.7500     12.2500   \n",
       "2       2.3223      5.8906       0.0000       21.0000      0.0000      4.0000   \n",
       "3       1.4424      6.0781       3.3340       21.0000      1.7500      6.7500   \n",
       "4       0.6641      4.8711       0.0000       15.0000      1.2500      8.5000   \n",
       "\n",
       "  sample  \n",
       "0  train  \n",
       "1  train  \n",
       "2  train  \n",
       "3  train  \n",
       "4  train  "
      ],
      "text/html": "<div>\n<style scoped>\n    .dataframe tbody tr th:only-of-type {\n        vertical-align: middle;\n    }\n\n    .dataframe tbody tr th {\n        vertical-align: top;\n    }\n\n    .dataframe thead th {\n        text-align: right;\n    }\n</style>\n<table border=\"1\" class=\"dataframe\">\n  <thead>\n    <tr style=\"text-align: right;\">\n      <th></th>\n      <th>id</th>\n      <th>loanAmnt</th>\n      <th>term</th>\n      <th>interestRate</th>\n      <th>installment</th>\n      <th>grade</th>\n      <th>subGrade</th>\n      <th>employmentTitle</th>\n      <th>employmentLength</th>\n      <th>homeOwnership</th>\n      <th>annualIncome</th>\n      <th>verificationStatus</th>\n      <th>issueDate</th>\n      <th>isDefault</th>\n      <th>purpose</th>\n      <th>postCode</th>\n      <th>regionCode</th>\n      <th>dti</th>\n      <th>delinquency_2years</th>\n      <th>ficoRangeLow</th>\n      <th>ficoRangeHigh</th>\n      <th>openAcc</th>\n      <th>pubRec</th>\n      <th>pubRecBankruptcies</th>\n      <th>revolBal</th>\n      <th>revolUtil</th>\n      <th>totalAcc</th>\n      <th>initialListStatus</th>\n      <th>applicationType</th>\n      <th>earliesCreditLine</th>\n      <th>title</th>\n      <th>policyCode</th>\n      <th>n0</th>\n      <th>n1</th>\n      <th>n2</th>\n      <th>n3</th>\n      <th>n4</th>\n      <th>n5</th>\n      <th>n6</th>\n      <th>n7</th>\n      <th>n8</th>\n      <th>n9</th>\n      <th>n10</th>\n      <th>n11</th>\n      <th>n12</th>\n      <th>n13</th>\n      <th>n14</th>\n      <th>years_between_issueDate_and_earliesCreditLine</th>\n      <th>issueDate_to_now_days</th>\n      <th>earliesCreditLine_to_now_days</th>\n      <th>ficoRange</th>\n      <th>revolBal_p_totalAcc</th>\n      <th>totalAcc_m_openAcc</th>\n      <th>loanAmnt_term</th>\n      <th>annualIncome_loanAmnt_term</th>\n      <th>debt</th>\n      <th>pro</th>\n      <th>installment_annualIncome</th>\n      <th>loanAmnt_applicationType</th>\n      <th>eny_num</th>\n      <th>int_sub</th>\n      <th>pro_dti</th>\n      <th>top1</th>\n      <th>rec</th>\n      <th>rec_rate</th>\n      <th>n_feat_min</th>\n      <th>n_feat_max</th>\n      <th>n_feat_sum</th>\n      <th>n_feat_mean</th>\n      <th>n_feat_median</th>\n      <th>n_feat_skew</th>\n      <th>n_feat_std</th>\n      <th>n_feat_mode</th>\n      <th>n_feat_range</th>\n      <th>n_feat_Q25</th>\n      <th>n_feat_Q75</th>\n      <th>sample</th>\n    </tr>\n  </thead>\n  <tbody>\n    <tr>\n      <th>0</th>\n      <td>0</td>\n      <td>10.4609</td>\n      <td>5</td>\n      <td>3.0215</td>\n      <td>6.8242</td>\n      <td>4</td>\n      <td>21</td>\n      <td>5.7695</td>\n      <td>2.0000</td>\n      <td>2</td>\n      <td>11.6094</td>\n      <td>2</td>\n      <td>2014-07-01</td>\n      <td>1.0000</td>\n      <td>1</td>\n      <td>4.9258</td>\n      <td>3.4961</td>\n      <td>2.8926</td>\n      <td>0.0000</td>\n      <td>730.0000</td>\n      <td>734.0000</td>\n      <td>2.0801</td>\n      <td>0.0000</td>\n      <td>0.0000</td>\n      <td>10.0938</td>\n      <td>3.9102</td>\n      <td>3.3320</td>\n      <td>0</td>\n      <td>0</td>\n      <td>Aug-2001</td>\n      <td>0.6934</td>\n      <td>1.0000</td>\n      <td>0.0000</td>\n      <td>2.0000</td>\n      <td>2.0000</td>\n      <td>2.0000</td>\n      <td>4.0000</td>\n      <td>2.3027</td>\n      <td>2.1973</td>\n      <td>1.6094</td>\n      <td>2.5645</td>\n      <td>2.0000</td>\n      <td>2.0801</td>\n      <td>0.0000</td>\n      <td>0.0000</td>\n      <td>0.0000</td>\n      <td>2.0000</td>\n      <td>2.6387</td>\n      <td>7.7852</td>\n      <td>8.8672</td>\n      <td>4.0000</td>\n      <td>10.0938</td>\n      <td>3.0449</td>\n      <td>8.8516</td>\n      <td>2.8164</td>\n      <td>14.4453</td>\n      <td>4.5898</td>\n      <td>0.0083</td>\n      <td>10.4609</td>\n      <td>6.3086</td>\n      <td>0.6573</td>\n      <td>1.9057</td>\n      <td>14.3828</td>\n      <td>0.0000</td>\n      <td>0.0000</td>\n      <td>0.0000</td>\n      <td>12.0000</td>\n      <td>52.0000</td>\n      <td>3.7148</td>\n      <td>2.0000</td>\n      <td>0.9512</td>\n      <td>3.8516</td>\n      <td>1.0000</td>\n      <td>12.0000</td>\n      <td>0.5000</td>\n      <td>6.2500</td>\n      <td>train</td>\n    </tr>\n    <tr>\n      <th>1</th>\n      <td>1</td>\n      <td>9.7969</td>\n      <td>5</td>\n      <td>2.9707</td>\n      <td>6.1367</td>\n      <td>3</td>\n      <td>16</td>\n      <td>12.2969</td>\n      <td>5.0000</td>\n      <td>0</td>\n      <td>10.7344</td>\n      <td>2</td>\n      <td>2012-08-01</td>\n      <td>0.0000</td>\n      <td>0</td>\n      <td>5.0547</td>\n      <td>2.9453</td>\n      <td>3.3613</td>\n      <td>0.0000</td>\n      <td>700.0000</td>\n      <td>704.0000</td>\n      <td>2.6387</td>\n      <td>0.0000</td>\n      <td>0.0000</td>\n      <td>9.6250</td>\n      <td>3.6855</td>\n      <td>2.9453</td>\n      <td>1</td>\n      <td>0</td>\n      <td>May-2002</td>\n      <td>7.4531</td>\n      <td>1.0000</td>\n      <td>nan</td>\n      <td>nan</td>\n      <td>nan</td>\n      <td>nan</td>\n      <td>10.0000</td>\n      <td>nan</td>\n      <td>nan</td>\n      <td>nan</td>\n      <td>nan</td>\n      <td>nan</td>\n      <td>2.6387</td>\n      <td>nan</td>\n      <td>nan</td>\n      <td>nan</td>\n      <td>nan</td>\n      <td>2.3984</td>\n      <td>8.0391</td>\n      <td>8.8281</td>\n      <td>4.0000</td>\n      <td>9.6250</td>\n      <td>1.7920</td>\n      <td>8.1875</td>\n      <td>2.6230</td>\n      <td>14.0625</td>\n      <td>4.5391</td>\n      <td>0.0100</td>\n      <td>9.7969</td>\n      <td>6.5312</td>\n      <td>0.7681</td>\n      <td>1.4637</td>\n      <td>14.5938</td>\n      <td>0.0000</td>\n      <td>0.0000</td>\n      <td>10.0000</td>\n      <td>13.0000</td>\n      <td>23.0000</td>\n      <td>11.5000</td>\n      <td>11.5000</td>\n      <td>nan</td>\n      <td>2.1211</td>\n      <td>11.5000</td>\n      <td>3.0000</td>\n      <td>10.7500</td>\n      <td>12.2500</td>\n      <td>train</td>\n    </tr>\n    <tr>\n      <th>2</th>\n      <td>2</td>\n      <td>9.3906</td>\n      <td>5</td>\n      <td>2.8906</td>\n      <td>5.6992</td>\n      <td>3</td>\n      <td>17</td>\n      <td>10.3672</td>\n      <td>8.0000</td>\n      <td>0</td>\n      <td>11.2109</td>\n      <td>2</td>\n      <td>2015-10-01</td>\n      <td>0.0000</td>\n      <td>0</td>\n      <td>5.8242</td>\n      <td>2.7090</td>\n      <td>3.1680</td>\n      <td>0.0000</td>\n      <td>675.0000</td>\n      <td>679.0000</td>\n      <td>2.4844</td>\n      <td>0.0000</td>\n      <td>0.0000</td>\n      <td>8.4375</td>\n      <td>3.9668</td>\n      <td>3.3320</td>\n      <td>0</td>\n      <td>0</td>\n      <td>May-2006</td>\n      <td>0.0000</td>\n      <td>1.0000</td>\n      <td>0.0000</td>\n      <td>0.0000</td>\n      <td>3.0000</td>\n      <td>3.0000</td>\n      <td>0.0000</td>\n      <td>0.0000</td>\n      <td>3.0918</td>\n      <td>1.6094</td>\n      <td>1.7920</td>\n      <td>3.0000</td>\n      <td>2.4844</td>\n      <td>0.0000</td>\n      <td>0.0000</td>\n      <td>0.0000</td>\n      <td>4.0000</td>\n      <td>2.3027</td>\n      <td>7.5742</td>\n      <td>8.5938</td>\n      <td>4.0000</td>\n      <td>8.4375</td>\n      <td>2.8340</td>\n      <td>7.7852</td>\n      <td>3.4609</td>\n      <td>14.3359</td>\n      <td>4.4531</td>\n      <td>0.0040</td>\n      <td>9.3906</td>\n      <td>6.3945</td>\n      <td>0.6929</td>\n      <td>1.5541</td>\n      <td>14.0938</td>\n      <td>0.0000</td>\n      <td>0.0000</td>\n      <td>0.0000</td>\n      <td>21.0000</td>\n      <td>51.0000</td>\n      <td>3.6426</td>\n      <td>1.5000</td>\n      <td>2.3223</td>\n      <td>5.8906</td>\n      <td>0.0000</td>\n      <td>21.0000</td>\n      <td>0.0000</td>\n      <td>4.0000</td>\n      <td>train</td>\n    </tr>\n    <tr>\n      <th>3</th>\n      <td>3</td>\n      <td>9.3047</td>\n      <td>3</td>\n      <td>2.1113</td>\n      <td>5.8359</td>\n      <td>0</td>\n      <td>3</td>\n      <td>10.7578</td>\n      <td>10.0000</td>\n      <td>1</td>\n      <td>11.6797</td>\n      <td>1</td>\n      <td>2015-08-01</td>\n      <td>0.0000</td>\n      <td>4</td>\n      <td>5.0039</td>\n      <td>2.4844</td>\n      <td>2.9023</td>\n      <td>0.0000</td>\n      <td>685.0000</td>\n      <td>689.0000</td>\n      <td>2.3027</td>\n      <td>0.0000</td>\n      <td>0.0000</td>\n      <td>9.2031</td>\n      <td>3.9824</td>\n      <td>3.3672</td>\n      <td>1</td>\n      <td>0</td>\n      <td>May-1999</td>\n      <td>1.6094</td>\n      <td>1.0000</td>\n      <td>6.0000</td>\n      <td>4.0000</td>\n      <td>6.0000</td>\n      <td>6.0000</td>\n      <td>4.0000</td>\n      <td>2.8340</td>\n      <td>1.6094</td>\n      <td>2.0801</td>\n      <td>3.0918</td>\n      <td>6.0000</td>\n      <td>2.3027</td>\n      <td>0.0000</td>\n      <td>0.0000</td>\n      <td>0.0000</td>\n      <td>1.0000</td>\n      <td>2.8340</td>\n      <td>7.6055</td>\n      <td>8.9766</td>\n      <td>4.0000</td>\n      <td>9.2109</td>\n      <td>2.9961</td>\n      <td>8.2109</td>\n      <td>3.5020</td>\n      <td>14.5234</td>\n      <td>3.1250</td>\n      <td>0.0029</td>\n      <td>9.3047</td>\n      <td>6.2109</td>\n      <td>1.2296</td>\n      <td>0.8178</td>\n      <td>14.1406</td>\n      <td>0.0000</td>\n      <td>0.0000</td>\n      <td>0.0000</td>\n      <td>21.0000</td>\n      <td>84.0000</td>\n      <td>6.0000</td>\n      <td>5.0000</td>\n      <td>1.4424</td>\n      <td>6.0781</td>\n      <td>3.3340</td>\n      <td>21.0000</td>\n      <td>1.7500</td>\n      <td>6.7500</td>\n      <td>train</td>\n    </tr>\n    <tr>\n      <th>4</th>\n      <td>4</td>\n      <td>8.0078</td>\n      <td>3</td>\n      <td>2.6387</td>\n      <td>4.6250</td>\n      <td>2</td>\n      <td>11</td>\n      <td>4.0078</td>\n      <td>nan</td>\n      <td>1</td>\n      <td>10.2734</td>\n      <td>2</td>\n      <td>2016-03-01</td>\n      <td>0.0000</td>\n      <td>10</td>\n      <td>5.7109</td>\n      <td>3.0918</td>\n      <td>3.5020</td>\n      <td>0.0000</td>\n      <td>690.0000</td>\n      <td>694.0000</td>\n      <td>2.5645</td>\n      <td>0.0000</td>\n      <td>0.0000</td>\n      <td>7.9883</td>\n      <td>3.4961</td>\n      <td>3.3320</td>\n      <td>0</td>\n      <td>0</td>\n      <td>Aug-1977</td>\n      <td>2.4844</td>\n      <td>1.0000</td>\n      <td>1.0000</td>\n      <td>2.0000</td>\n      <td>7.0000</td>\n      <td>7.0000</td>\n      <td>2.0000</td>\n      <td>1.6094</td>\n      <td>2.3027</td>\n      <td>2.3984</td>\n      <td>2.7734</td>\n      <td>7.0000</td>\n      <td>2.5645</td>\n      <td>0.0000</td>\n      <td>0.0000</td>\n      <td>0.0000</td>\n      <td>4.0000</td>\n      <td>3.6895</td>\n      <td>7.4922</td>\n      <td>9.6719</td>\n      <td>4.0000</td>\n      <td>7.9961</td>\n      <td>2.7734</td>\n      <td>6.9102</td>\n      <td>3.4004</td>\n      <td>13.7422</td>\n      <td>3.6875</td>\n      <td>0.0035</td>\n      <td>8.0078</td>\n      <td>6.0117</td>\n      <td>0.7797</td>\n      <td>0.7938</td>\n      <td>14.0312</td>\n      <td>0.0000</td>\n      <td>0.0000</td>\n      <td>0.0000</td>\n      <td>15.0000</td>\n      <td>73.0000</td>\n      <td>5.2148</td>\n      <td>4.0000</td>\n      <td>0.6641</td>\n      <td>4.8711</td>\n      <td>0.0000</td>\n      <td>15.0000</td>\n      <td>1.2500</td>\n      <td>8.5000</td>\n      <td>train</td>\n    </tr>\n  </tbody>\n</table>\n</div>"
     },
     "metadata": {},
     "execution_count": 4
    }
   ],
   "source": [
    "data = pd.read_feather('data/data_for_model_v2.feather')\n",
    "logging.info(f'data shape: {data.shape}')\n",
    "data.head()"
   ]
  },
  {
   "cell_type": "code",
   "execution_count": 5,
   "metadata": {},
   "outputs": [
    {
     "output_type": "stream",
     "name": "stderr",
     "text": [
      "2021-01-26 10:25:34,299 INFO: X_train: (800000, 72), X_test: (200000, 72), y_train: (800000,)\n"
     ]
    }
   ],
   "source": [
    "dropping_cols = ['id', 'issueDate', 'isDefault', 'earliesCreditLine', 'sample']\n",
    "\n",
    "X_train = data.loc[data['sample'] == 'train', :].drop(dropping_cols, axis=1)\n",
    "X_test = data.loc[data['sample'] == 'test', :].drop(dropping_cols, axis=1)\n",
    "y_train = data.loc[data['sample'] == 'train', 'isDefault']\n",
    "\n",
    "logging.info(f'X_train: {X_train.shape}, X_test: {X_test.shape}, y_train: {y_train.shape}')"
   ]
  },
  {
   "source": [
    "### LGB"
   ],
   "cell_type": "markdown",
   "metadata": {
    "tags": []
   }
  },
  {
   "cell_type": "code",
   "execution_count": 6,
   "metadata": {},
   "outputs": [],
   "source": [
    "def lgb_model(params, X_train, y_train, X_test, y_test=None, folds=5, SEED=2021):\n",
    "    params['seed'] = SEED\n",
    "    kf = KFold(n_splits=folds, shuffle=True, random_state=SEED)\n",
    "    \n",
    "    cv_scores = []\n",
    "    test_preds = None\n",
    "    for i, (trn_index, val_index) in enumerate(kf.split(X_train, y_train)):\n",
    "        trn_x, trn_y, val_x, val_y = X_train.iloc[trn_index], y_train[trn_index], X_train.iloc[val_index],y_train[val_index]\n",
    "        train_matrix = lgb.Dataset(trn_x, label=trn_y)\n",
    "        valid_matrix = lgb.Dataset(val_x, label=val_y)\n",
    "        model = lgb.train(params, train_matrix, 20000, valid_sets=[train_matrix, valid_matrix], verbose_eval=500, early_stopping_rounds=500)\n",
    "        val_pred = model.predict(val_x, num_iteration=model.best_iteration)\n",
    "        test_pred = model.predict(X_test, num_iteration=model.best_iteration)\n",
    "\n",
    "        if test_preds is None:\n",
    "            test_preds = test_pred / kf.n_splits\n",
    "        else:\n",
    "            test_preds += test_pred / kf.n_splits\n",
    "        fpr, tpr, threshold = metrics.roc_curve(val_y, val_pred)\n",
    "        roc_auc = metrics.auc(fpr, tpr)\n",
    "        cv_scores.append(roc_auc)\n",
    "        print(f\"{i} fold's ROC_AUC: {roc_auc}\")\n",
    "\n",
    "    print(f\"cv scotrainre list: {cv_scores}\")\n",
    "    print(f\"cv score mean: {np.mean(cv_scores)}\")\n",
    "    print(f\"cv score std: {np.std(cv_scores)}\")\n",
    "    return test_preds"
   ]
  },
  {
   "cell_type": "code",
   "execution_count": 7,
   "metadata": {},
   "outputs": [
    {
     "output_type": "stream",
     "name": "stdout",
     "text": [
      "Training until validation scores don't improve for 500 rounds\n",
      "[500]\ttraining's auc: 0.739489\tvalid_1's auc: 0.734789\n",
      "[1000]\ttraining's auc: 0.746127\tvalid_1's auc: 0.736952\n",
      "[1500]\ttraining's auc: 0.751063\tvalid_1's auc: 0.73785\n",
      "[2000]\ttraining's auc: 0.755135\tvalid_1's auc: 0.738183\n",
      "[2500]\ttraining's auc: 0.758748\tvalid_1's auc: 0.738208\n",
      "Early stopping, best iteration is:\n",
      "[2435]\ttraining's auc: 0.758296\tvalid_1's auc: 0.738264\n",
      "0 fold's ROC_AUC: 0.7382637274248407\n",
      "Training until validation scores don't improve for 500 rounds\n",
      "[500]\ttraining's auc: 0.739352\tvalid_1's auc: 0.734249\n",
      "[1000]\ttraining's auc: 0.74605\tvalid_1's auc: 0.736614\n",
      "[1500]\ttraining's auc: 0.750952\tvalid_1's auc: 0.737527\n",
      "[2000]\ttraining's auc: 0.75498\tvalid_1's auc: 0.737905\n",
      "[2500]\ttraining's auc: 0.758469\tvalid_1's auc: 0.73802\n",
      "[3000]\ttraining's auc: 0.761762\tvalid_1's auc: 0.737947\n",
      "Early stopping, best iteration is:\n",
      "[2514]\ttraining's auc: 0.758567\tvalid_1's auc: 0.73804\n",
      "1 fold's ROC_AUC: 0.7380402950641431\n",
      "Training until validation scores don't improve for 500 rounds\n",
      "[500]\ttraining's auc: 0.739682\tvalid_1's auc: 0.733181\n",
      "[1000]\ttraining's auc: 0.746235\tvalid_1's auc: 0.735814\n",
      "[1500]\ttraining's auc: 0.75105\tvalid_1's auc: 0.736916\n",
      "[2000]\ttraining's auc: 0.755113\tvalid_1's auc: 0.737379\n",
      "[2500]\ttraining's auc: 0.758679\tvalid_1's auc: 0.73744\n",
      "[3000]\ttraining's auc: 0.761908\tvalid_1's auc: 0.737475\n",
      "Early stopping, best iteration is:\n",
      "[2719]\ttraining's auc: 0.760107\tvalid_1's auc: 0.737576\n",
      "2 fold's ROC_AUC: 0.7375760904074485\n",
      "Training until validation scores don't improve for 500 rounds\n",
      "[500]\ttraining's auc: 0.739735\tvalid_1's auc: 0.733755\n",
      "[1000]\ttraining's auc: 0.746321\tvalid_1's auc: 0.7359\n",
      "[1500]\ttraining's auc: 0.751192\tvalid_1's auc: 0.736659\n",
      "[2000]\ttraining's auc: 0.755325\tvalid_1's auc: 0.737139\n",
      "[2500]\ttraining's auc: 0.758818\tvalid_1's auc: 0.737249\n",
      "[3000]\ttraining's auc: 0.761952\tvalid_1's auc: 0.737184\n",
      "Early stopping, best iteration is:\n",
      "[2709]\ttraining's auc: 0.760177\tvalid_1's auc: 0.737265\n",
      "3 fold's ROC_AUC: 0.7372646300263883\n",
      "Training until validation scores don't improve for 500 rounds\n",
      "[500]\ttraining's auc: 0.739773\tvalid_1's auc: 0.733318\n",
      "[1000]\ttraining's auc: 0.746421\tvalid_1's auc: 0.735797\n",
      "[1500]\ttraining's auc: 0.751226\tvalid_1's auc: 0.736552\n",
      "[2000]\ttraining's auc: 0.755308\tvalid_1's auc: 0.736898\n",
      "[2500]\ttraining's auc: 0.758845\tvalid_1's auc: 0.737\n",
      "[3000]\ttraining's auc: 0.762075\tvalid_1's auc: 0.736906\n",
      "Early stopping, best iteration is:\n",
      "[2520]\ttraining's auc: 0.758983\tvalid_1's auc: 0.737042\n",
      "4 fold's ROC_AUC: 0.7370419263939918\n",
      "cv scotrainre list: [0.7382637274248407, 0.7380402950641431, 0.7375760904074485, 0.7372646300263883, 0.7370419263939918]\n",
      "cv score mean: 0.7376373338633624\n",
      "cv score std: 0.0004586753947544854\n"
     ]
    }
   ],
   "source": [
    "params = {\n",
    "        'boosting_type': 'gbdt',\n",
    "        'objective': 'binary',\n",
    "        'metric': 'auc',\n",
    "        'learning_rate': 0.1,\n",
    "        'n_jobs':-1,\n",
    "        'verbose': -1,\n",
    "\n",
    "        # 参数\n",
    "        'bagging_fraction': 0.91,\n",
    "        'bagging_freq': 1,\n",
    "        'feature_fraction': 0.85,\n",
    "        'max_depth': 3,\n",
    "        'min_child_weight': 8.37,\n",
    "        'min_data_in_leaf': 131,\n",
    "        'min_split_gain': 0.13,\n",
    "        'num_leaves': 12,\n",
    "        'reg_alpha': 9.7,\n",
    "        'reg_lambda': 2.02,\n",
    "    }\n",
    "\n",
    "test_preds = lgb_model(params, X_train, y_train, X_test)"
   ]
  },
  {
   "source": [
    "### 生成提交文件"
   ],
   "cell_type": "markdown",
   "metadata": {}
  },
  {
   "cell_type": "code",
   "execution_count": 8,
   "metadata": {},
   "outputs": [
    {
     "output_type": "execute_result",
     "data": {
      "text/plain": [
       "       id  isDefault\n",
       "0  800000     0.0668\n",
       "1  800001     0.3124\n",
       "2  800002     0.6493\n",
       "3  800003     0.3191\n",
       "4  800004     0.3974\n",
       "5  800005     0.0218\n",
       "6  800006     0.3335\n",
       "7  800007     0.0349\n",
       "8  800008     0.6568\n",
       "9  800009     0.0326"
      ],
      "text/html": "<div>\n<style scoped>\n    .dataframe tbody tr th:only-of-type {\n        vertical-align: middle;\n    }\n\n    .dataframe tbody tr th {\n        vertical-align: top;\n    }\n\n    .dataframe thead th {\n        text-align: right;\n    }\n</style>\n<table border=\"1\" class=\"dataframe\">\n  <thead>\n    <tr style=\"text-align: right;\">\n      <th></th>\n      <th>id</th>\n      <th>isDefault</th>\n    </tr>\n  </thead>\n  <tbody>\n    <tr>\n      <th>0</th>\n      <td>800000</td>\n      <td>0.0668</td>\n    </tr>\n    <tr>\n      <th>1</th>\n      <td>800001</td>\n      <td>0.3124</td>\n    </tr>\n    <tr>\n      <th>2</th>\n      <td>800002</td>\n      <td>0.6493</td>\n    </tr>\n    <tr>\n      <th>3</th>\n      <td>800003</td>\n      <td>0.3191</td>\n    </tr>\n    <tr>\n      <th>4</th>\n      <td>800004</td>\n      <td>0.3974</td>\n    </tr>\n    <tr>\n      <th>5</th>\n      <td>800005</td>\n      <td>0.0218</td>\n    </tr>\n    <tr>\n      <th>6</th>\n      <td>800006</td>\n      <td>0.3335</td>\n    </tr>\n    <tr>\n      <th>7</th>\n      <td>800007</td>\n      <td>0.0349</td>\n    </tr>\n    <tr>\n      <th>8</th>\n      <td>800008</td>\n      <td>0.6568</td>\n    </tr>\n    <tr>\n      <th>9</th>\n      <td>800009</td>\n      <td>0.0326</td>\n    </tr>\n  </tbody>\n</table>\n</div>"
     },
     "metadata": {},
     "execution_count": 8
    }
   ],
   "source": [
    "# 生成提交格式的DataFrame\n",
    "df_result = pd.DataFrame({'id': data.loc[data['sample'] == 'test', 'id'].values, 'isDefault': test_preds})\n",
    "df_result.to_csv('data/tc/pred_lgb2.csv', index=False)\n",
    "df_result.sort_values(by='id').head(10)"
   ]
  },
  {
   "cell_type": "code",
   "execution_count": null,
   "metadata": {},
   "outputs": [],
   "source": []
  }
 ]
}